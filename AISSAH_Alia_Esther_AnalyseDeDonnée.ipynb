{
 "cells": [
  {
   "cell_type": "markdown",
   "id": "f3b43550-2b33-4a27-b8e5-2cfc16fef6b0",
   "metadata": {},
   "source": [
    "_______________________________________________________ ______________________________________________________\n",
    "\n",
    "                                      AISSAH ASHEA-HANA ALIA ESTHER\n",
    "                                              ISM - M1 BIG DATA\n",
    "                       "
   ]
  },
  {
   "cell_type": "markdown",
   "id": "0a840adb-a5e0-48c2-98e9-64266d5c37b4",
   "metadata": {},
   "source": [
    "A) Rappel de la problématique\n",
    "\n",
    "La startup de formation en ligne dans laquelle nous travaillons veut etendre son activité et se demande\n",
    "si les données sur l'etuducation de la banque mondiale peuvent determiner:\n",
    "- Les pays avec un fort potentiel de clients pour nos services\n",
    "- L’évolution de ce potentiel de clients pour chacun de ces pays\n",
    "- les pays dans lesquels l'entreprise doit opérer en priorité"
   ]
  },
  {
   "cell_type": "markdown",
   "id": "dcc5db79-cefe-4948-be94-27e78b0fca2e",
   "metadata": {},
   "source": [
    "B) Présentation du jeu de données"
   ]
  },
  {
   "cell_type": "markdown",
   "id": "e86c3093-6976-417b-9f06-15965fe6a4ec",
   "metadata": {},
   "source": [
    "- Importation des librairies et des données"
   ]
  },
  {
   "cell_type": "code",
   "execution_count": 1,
   "id": "c3831320-ab74-4117-aa6b-3da853f1dd8c",
   "metadata": {},
   "outputs": [],
   "source": [
    "#importation des librairies \n",
    "import pandas as pd #permet de manipuler et analyser les données\n",
    "import numpy as np #manipuler les tableaux ou matrices ainsi que des fonction mathématiques opérant sur ces tableaux\n",
    "import seaborn as sns #transformer les données en graphiques\n",
    "import matplotlib.pyplot as plt"
   ]
  },
  {
   "cell_type": "code",
   "execution_count": 2,
   "id": "301310b3-05ee-4a32-94f0-9957bb645db2",
   "metadata": {},
   "outputs": [],
   "source": [
    "#Importer les données\n",
    "countrySeries= pd.read_csv('EdStatsCountry-Series.csv')\n",
    "country = pd.read_csv('EdStatsCountry.csv')\n",
    "data = pd.read_csv('EdStatsData.csv')\n",
    "footNote = pd.read_csv('EdStatsFootNote.csv')\n",
    "series = pd.read_csv('EdStatsSeries.csv')\n"
   ]
  },
  {
   "cell_type": "markdown",
   "id": "fc8bb4b2-b650-4c34-b261-638cdc3d3fd1",
   "metadata": {},
   "source": [
    "- Comprehension des données"
   ]
  },
  {
   "cell_type": "markdown",
   "id": "3d5dbb68-6633-488d-b55c-19f554101ce1",
   "metadata": {},
   "source": [
    "1- fichier EdStatsCountry"
   ]
  },
  {
   "cell_type": "code",
   "execution_count": 3,
   "id": "81797132-b00a-4b23-96bb-7b660edef689",
   "metadata": {},
   "outputs": [
    {
     "data": {
      "text/html": [
       "<div>\n",
       "<style scoped>\n",
       "    .dataframe tbody tr th:only-of-type {\n",
       "        vertical-align: middle;\n",
       "    }\n",
       "\n",
       "    .dataframe tbody tr th {\n",
       "        vertical-align: top;\n",
       "    }\n",
       "\n",
       "    .dataframe thead th {\n",
       "        text-align: right;\n",
       "    }\n",
       "</style>\n",
       "<table border=\"1\" class=\"dataframe\">\n",
       "  <thead>\n",
       "    <tr style=\"text-align: right;\">\n",
       "      <th></th>\n",
       "      <th>Country Code</th>\n",
       "      <th>Short Name</th>\n",
       "      <th>Table Name</th>\n",
       "      <th>Long Name</th>\n",
       "      <th>2-alpha code</th>\n",
       "      <th>Currency Unit</th>\n",
       "      <th>Special Notes</th>\n",
       "      <th>Region</th>\n",
       "      <th>Income Group</th>\n",
       "      <th>WB-2 code</th>\n",
       "      <th>...</th>\n",
       "      <th>IMF data dissemination standard</th>\n",
       "      <th>Latest population census</th>\n",
       "      <th>Latest household survey</th>\n",
       "      <th>Source of most recent Income and expenditure data</th>\n",
       "      <th>Vital registration complete</th>\n",
       "      <th>Latest agricultural census</th>\n",
       "      <th>Latest industrial data</th>\n",
       "      <th>Latest trade data</th>\n",
       "      <th>Latest water withdrawal data</th>\n",
       "      <th>Unnamed: 31</th>\n",
       "    </tr>\n",
       "  </thead>\n",
       "  <tbody>\n",
       "    <tr>\n",
       "      <th>0</th>\n",
       "      <td>ABW</td>\n",
       "      <td>Aruba</td>\n",
       "      <td>Aruba</td>\n",
       "      <td>Aruba</td>\n",
       "      <td>AW</td>\n",
       "      <td>Aruban florin</td>\n",
       "      <td>SNA data for 2000-2011 are updated from offici...</td>\n",
       "      <td>Latin America &amp; Caribbean</td>\n",
       "      <td>High income: nonOECD</td>\n",
       "      <td>AW</td>\n",
       "      <td>...</td>\n",
       "      <td>NaN</td>\n",
       "      <td>2010</td>\n",
       "      <td>NaN</td>\n",
       "      <td>NaN</td>\n",
       "      <td>Yes</td>\n",
       "      <td>NaN</td>\n",
       "      <td>NaN</td>\n",
       "      <td>2012.0</td>\n",
       "      <td>NaN</td>\n",
       "      <td>NaN</td>\n",
       "    </tr>\n",
       "    <tr>\n",
       "      <th>1</th>\n",
       "      <td>AFG</td>\n",
       "      <td>Afghanistan</td>\n",
       "      <td>Afghanistan</td>\n",
       "      <td>Islamic State of Afghanistan</td>\n",
       "      <td>AF</td>\n",
       "      <td>Afghan afghani</td>\n",
       "      <td>Fiscal year end: March 20; reporting period fo...</td>\n",
       "      <td>South Asia</td>\n",
       "      <td>Low income</td>\n",
       "      <td>AF</td>\n",
       "      <td>...</td>\n",
       "      <td>General Data Dissemination System (GDDS)</td>\n",
       "      <td>1979</td>\n",
       "      <td>Multiple Indicator Cluster Survey (MICS), 2010/11</td>\n",
       "      <td>Integrated household survey (IHS), 2008</td>\n",
       "      <td>NaN</td>\n",
       "      <td>2013/14</td>\n",
       "      <td>NaN</td>\n",
       "      <td>2012.0</td>\n",
       "      <td>2000</td>\n",
       "      <td>NaN</td>\n",
       "    </tr>\n",
       "    <tr>\n",
       "      <th>2</th>\n",
       "      <td>AGO</td>\n",
       "      <td>Angola</td>\n",
       "      <td>Angola</td>\n",
       "      <td>People's Republic of Angola</td>\n",
       "      <td>AO</td>\n",
       "      <td>Angolan kwanza</td>\n",
       "      <td>April 2013 database update: Based on IMF data,...</td>\n",
       "      <td>Sub-Saharan Africa</td>\n",
       "      <td>Upper middle income</td>\n",
       "      <td>AO</td>\n",
       "      <td>...</td>\n",
       "      <td>General Data Dissemination System (GDDS)</td>\n",
       "      <td>1970</td>\n",
       "      <td>Malaria Indicator Survey (MIS), 2011</td>\n",
       "      <td>Integrated household survey (IHS), 2008</td>\n",
       "      <td>NaN</td>\n",
       "      <td>2015</td>\n",
       "      <td>NaN</td>\n",
       "      <td>NaN</td>\n",
       "      <td>2005</td>\n",
       "      <td>NaN</td>\n",
       "    </tr>\n",
       "    <tr>\n",
       "      <th>3</th>\n",
       "      <td>ALB</td>\n",
       "      <td>Albania</td>\n",
       "      <td>Albania</td>\n",
       "      <td>Republic of Albania</td>\n",
       "      <td>AL</td>\n",
       "      <td>Albanian lek</td>\n",
       "      <td>NaN</td>\n",
       "      <td>Europe &amp; Central Asia</td>\n",
       "      <td>Upper middle income</td>\n",
       "      <td>AL</td>\n",
       "      <td>...</td>\n",
       "      <td>General Data Dissemination System (GDDS)</td>\n",
       "      <td>2011</td>\n",
       "      <td>Demographic and Health Survey (DHS), 2008/09</td>\n",
       "      <td>Living Standards Measurement Study Survey (LSM...</td>\n",
       "      <td>Yes</td>\n",
       "      <td>2012</td>\n",
       "      <td>2010.0</td>\n",
       "      <td>2012.0</td>\n",
       "      <td>2006</td>\n",
       "      <td>NaN</td>\n",
       "    </tr>\n",
       "    <tr>\n",
       "      <th>4</th>\n",
       "      <td>AND</td>\n",
       "      <td>Andorra</td>\n",
       "      <td>Andorra</td>\n",
       "      <td>Principality of Andorra</td>\n",
       "      <td>AD</td>\n",
       "      <td>Euro</td>\n",
       "      <td>NaN</td>\n",
       "      <td>Europe &amp; Central Asia</td>\n",
       "      <td>High income: nonOECD</td>\n",
       "      <td>AD</td>\n",
       "      <td>...</td>\n",
       "      <td>NaN</td>\n",
       "      <td>2011. Population figures compiled from adminis...</td>\n",
       "      <td>NaN</td>\n",
       "      <td>NaN</td>\n",
       "      <td>Yes</td>\n",
       "      <td>NaN</td>\n",
       "      <td>NaN</td>\n",
       "      <td>2006.0</td>\n",
       "      <td>NaN</td>\n",
       "      <td>NaN</td>\n",
       "    </tr>\n",
       "  </tbody>\n",
       "</table>\n",
       "<p>5 rows × 32 columns</p>\n",
       "</div>"
      ],
      "text/plain": [
       "  Country Code   Short Name   Table Name                     Long Name  \\\n",
       "0          ABW        Aruba        Aruba                         Aruba   \n",
       "1          AFG  Afghanistan  Afghanistan  Islamic State of Afghanistan   \n",
       "2          AGO       Angola       Angola   People's Republic of Angola   \n",
       "3          ALB      Albania      Albania           Republic of Albania   \n",
       "4          AND      Andorra      Andorra       Principality of Andorra   \n",
       "\n",
       "  2-alpha code   Currency Unit  \\\n",
       "0           AW   Aruban florin   \n",
       "1           AF  Afghan afghani   \n",
       "2           AO  Angolan kwanza   \n",
       "3           AL    Albanian lek   \n",
       "4           AD            Euro   \n",
       "\n",
       "                                       Special Notes  \\\n",
       "0  SNA data for 2000-2011 are updated from offici...   \n",
       "1  Fiscal year end: March 20; reporting period fo...   \n",
       "2  April 2013 database update: Based on IMF data,...   \n",
       "3                                                NaN   \n",
       "4                                                NaN   \n",
       "\n",
       "                      Region          Income Group WB-2 code  ...  \\\n",
       "0  Latin America & Caribbean  High income: nonOECD        AW  ...   \n",
       "1                 South Asia            Low income        AF  ...   \n",
       "2         Sub-Saharan Africa   Upper middle income        AO  ...   \n",
       "3      Europe & Central Asia   Upper middle income        AL  ...   \n",
       "4      Europe & Central Asia  High income: nonOECD        AD  ...   \n",
       "\n",
       "            IMF data dissemination standard  \\\n",
       "0                                       NaN   \n",
       "1  General Data Dissemination System (GDDS)   \n",
       "2  General Data Dissemination System (GDDS)   \n",
       "3  General Data Dissemination System (GDDS)   \n",
       "4                                       NaN   \n",
       "\n",
       "                            Latest population census  \\\n",
       "0                                               2010   \n",
       "1                                               1979   \n",
       "2                                               1970   \n",
       "3                                               2011   \n",
       "4  2011. Population figures compiled from adminis...   \n",
       "\n",
       "                             Latest household survey  \\\n",
       "0                                                NaN   \n",
       "1  Multiple Indicator Cluster Survey (MICS), 2010/11   \n",
       "2               Malaria Indicator Survey (MIS), 2011   \n",
       "3       Demographic and Health Survey (DHS), 2008/09   \n",
       "4                                                NaN   \n",
       "\n",
       "   Source of most recent Income and expenditure data  \\\n",
       "0                                                NaN   \n",
       "1            Integrated household survey (IHS), 2008   \n",
       "2            Integrated household survey (IHS), 2008   \n",
       "3  Living Standards Measurement Study Survey (LSM...   \n",
       "4                                                NaN   \n",
       "\n",
       "  Vital registration complete Latest agricultural census  \\\n",
       "0                         Yes                        NaN   \n",
       "1                         NaN                    2013/14   \n",
       "2                         NaN                       2015   \n",
       "3                         Yes                       2012   \n",
       "4                         Yes                        NaN   \n",
       "\n",
       "  Latest industrial data Latest trade data Latest water withdrawal data  \\\n",
       "0                    NaN            2012.0                          NaN   \n",
       "1                    NaN            2012.0                         2000   \n",
       "2                    NaN               NaN                         2005   \n",
       "3                 2010.0            2012.0                         2006   \n",
       "4                    NaN            2006.0                          NaN   \n",
       "\n",
       "  Unnamed: 31  \n",
       "0         NaN  \n",
       "1         NaN  \n",
       "2         NaN  \n",
       "3         NaN  \n",
       "4         NaN  \n",
       "\n",
       "[5 rows x 32 columns]"
      ]
     },
     "execution_count": 3,
     "metadata": {},
     "output_type": "execute_result"
    }
   ],
   "source": [
    "country.head()"
   ]
  },
  {
   "cell_type": "markdown",
   "id": "67303927-bd31-4784-86c3-b875dd72a8d1",
   "metadata": {},
   "source": [
    "le fichier EdStatsCountry contient les informations (unité monétaire,dernieres données commerciales..) sur l economie de chaque pays"
   ]
  },
  {
   "cell_type": "code",
   "execution_count": 4,
   "id": "39e600d3-9407-4ba3-bdac-4e66f871647e",
   "metadata": {},
   "outputs": [
    {
     "data": {
      "text/plain": [
       "241"
      ]
     },
     "execution_count": 4,
     "metadata": {},
     "output_type": "execute_result"
    }
   ],
   "source": [
    "country[\"Country Code\"].nunique()"
   ]
  },
  {
   "cell_type": "markdown",
   "id": "b3f0543a-148d-4da1-9581-462197b23c9d",
   "metadata": {},
   "source": [
    "Il y a en tout 241 pays dans le fichier EdStatsCountry car chaque ligne correspond à un pays"
   ]
  },
  {
   "cell_type": "markdown",
   "id": "8128d65e-9fd2-4752-bd06-fc98ec13f8b9",
   "metadata": {},
   "source": [
    "2- fichier EdStatsCountry-Series"
   ]
  },
  {
   "cell_type": "code",
   "execution_count": 5,
   "id": "010bfd36-3fe5-41c1-9e58-17e61dd862f4",
   "metadata": {},
   "outputs": [
    {
     "data": {
      "text/html": [
       "<div>\n",
       "<style scoped>\n",
       "    .dataframe tbody tr th:only-of-type {\n",
       "        vertical-align: middle;\n",
       "    }\n",
       "\n",
       "    .dataframe tbody tr th {\n",
       "        vertical-align: top;\n",
       "    }\n",
       "\n",
       "    .dataframe thead th {\n",
       "        text-align: right;\n",
       "    }\n",
       "</style>\n",
       "<table border=\"1\" class=\"dataframe\">\n",
       "  <thead>\n",
       "    <tr style=\"text-align: right;\">\n",
       "      <th></th>\n",
       "      <th>CountryCode</th>\n",
       "      <th>SeriesCode</th>\n",
       "      <th>DESCRIPTION</th>\n",
       "      <th>Unnamed: 3</th>\n",
       "    </tr>\n",
       "  </thead>\n",
       "  <tbody>\n",
       "    <tr>\n",
       "      <th>0</th>\n",
       "      <td>ABW</td>\n",
       "      <td>SP.POP.TOTL</td>\n",
       "      <td>Data sources : United Nations World Population...</td>\n",
       "      <td>NaN</td>\n",
       "    </tr>\n",
       "    <tr>\n",
       "      <th>1</th>\n",
       "      <td>ABW</td>\n",
       "      <td>SP.POP.GROW</td>\n",
       "      <td>Data sources: United Nations World Population ...</td>\n",
       "      <td>NaN</td>\n",
       "    </tr>\n",
       "    <tr>\n",
       "      <th>2</th>\n",
       "      <td>AFG</td>\n",
       "      <td>SP.POP.GROW</td>\n",
       "      <td>Data sources: United Nations World Population ...</td>\n",
       "      <td>NaN</td>\n",
       "    </tr>\n",
       "    <tr>\n",
       "      <th>3</th>\n",
       "      <td>AFG</td>\n",
       "      <td>NY.GDP.PCAP.PP.CD</td>\n",
       "      <td>Estimates are based on regression.</td>\n",
       "      <td>NaN</td>\n",
       "    </tr>\n",
       "    <tr>\n",
       "      <th>4</th>\n",
       "      <td>AFG</td>\n",
       "      <td>SP.POP.TOTL</td>\n",
       "      <td>Data sources : United Nations World Population...</td>\n",
       "      <td>NaN</td>\n",
       "    </tr>\n",
       "  </tbody>\n",
       "</table>\n",
       "</div>"
      ],
      "text/plain": [
       "  CountryCode         SeriesCode  \\\n",
       "0         ABW        SP.POP.TOTL   \n",
       "1         ABW        SP.POP.GROW   \n",
       "2         AFG        SP.POP.GROW   \n",
       "3         AFG  NY.GDP.PCAP.PP.CD   \n",
       "4         AFG        SP.POP.TOTL   \n",
       "\n",
       "                                         DESCRIPTION  Unnamed: 3  \n",
       "0  Data sources : United Nations World Population...         NaN  \n",
       "1  Data sources: United Nations World Population ...         NaN  \n",
       "2  Data sources: United Nations World Population ...         NaN  \n",
       "3                 Estimates are based on regression.         NaN  \n",
       "4  Data sources : United Nations World Population...         NaN  "
      ]
     },
     "execution_count": 5,
     "metadata": {},
     "output_type": "execute_result"
    }
   ],
   "source": [
    "countrySeries.head()"
   ]
  },
  {
   "cell_type": "markdown",
   "id": "13e93a5a-0b9e-4277-b7a4-1a187ca12f83",
   "metadata": {},
   "source": [
    "Le fichier EdStatsCountry-Series contient les sources des données du ficher EdStatsCountry "
   ]
  },
  {
   "cell_type": "markdown",
   "id": "4470aba2-ab3c-44b1-9d24-b6d7cf6d88b3",
   "metadata": {},
   "source": [
    "3- fichier EdStatsSeries"
   ]
  },
  {
   "cell_type": "code",
   "execution_count": 6,
   "id": "6e0d5d9b-81ae-477d-8b5a-2a3c3165e20e",
   "metadata": {},
   "outputs": [
    {
     "data": {
      "text/html": [
       "<div>\n",
       "<style scoped>\n",
       "    .dataframe tbody tr th:only-of-type {\n",
       "        vertical-align: middle;\n",
       "    }\n",
       "\n",
       "    .dataframe tbody tr th {\n",
       "        vertical-align: top;\n",
       "    }\n",
       "\n",
       "    .dataframe thead th {\n",
       "        text-align: right;\n",
       "    }\n",
       "</style>\n",
       "<table border=\"1\" class=\"dataframe\">\n",
       "  <thead>\n",
       "    <tr style=\"text-align: right;\">\n",
       "      <th></th>\n",
       "      <th>Series Code</th>\n",
       "      <th>Topic</th>\n",
       "      <th>Indicator Name</th>\n",
       "      <th>Short definition</th>\n",
       "      <th>Long definition</th>\n",
       "      <th>Unit of measure</th>\n",
       "      <th>Periodicity</th>\n",
       "      <th>Base Period</th>\n",
       "      <th>Other notes</th>\n",
       "      <th>Aggregation method</th>\n",
       "      <th>...</th>\n",
       "      <th>Notes from original source</th>\n",
       "      <th>General comments</th>\n",
       "      <th>Source</th>\n",
       "      <th>Statistical concept and methodology</th>\n",
       "      <th>Development relevance</th>\n",
       "      <th>Related source links</th>\n",
       "      <th>Other web links</th>\n",
       "      <th>Related indicators</th>\n",
       "      <th>License Type</th>\n",
       "      <th>Unnamed: 20</th>\n",
       "    </tr>\n",
       "  </thead>\n",
       "  <tbody>\n",
       "    <tr>\n",
       "      <th>0</th>\n",
       "      <td>BAR.NOED.1519.FE.ZS</td>\n",
       "      <td>Attainment</td>\n",
       "      <td>Barro-Lee: Percentage of female population age...</td>\n",
       "      <td>Percentage of female population age 15-19 with...</td>\n",
       "      <td>Percentage of female population age 15-19 with...</td>\n",
       "      <td>NaN</td>\n",
       "      <td>NaN</td>\n",
       "      <td>NaN</td>\n",
       "      <td>NaN</td>\n",
       "      <td>NaN</td>\n",
       "      <td>...</td>\n",
       "      <td>NaN</td>\n",
       "      <td>NaN</td>\n",
       "      <td>Robert J. Barro and Jong-Wha Lee: http://www.b...</td>\n",
       "      <td>NaN</td>\n",
       "      <td>NaN</td>\n",
       "      <td>NaN</td>\n",
       "      <td>NaN</td>\n",
       "      <td>NaN</td>\n",
       "      <td>NaN</td>\n",
       "      <td>NaN</td>\n",
       "    </tr>\n",
       "    <tr>\n",
       "      <th>1</th>\n",
       "      <td>BAR.NOED.1519.ZS</td>\n",
       "      <td>Attainment</td>\n",
       "      <td>Barro-Lee: Percentage of population age 15-19 ...</td>\n",
       "      <td>Percentage of population age 15-19 with no edu...</td>\n",
       "      <td>Percentage of population age 15-19 with no edu...</td>\n",
       "      <td>NaN</td>\n",
       "      <td>NaN</td>\n",
       "      <td>NaN</td>\n",
       "      <td>NaN</td>\n",
       "      <td>NaN</td>\n",
       "      <td>...</td>\n",
       "      <td>NaN</td>\n",
       "      <td>NaN</td>\n",
       "      <td>Robert J. Barro and Jong-Wha Lee: http://www.b...</td>\n",
       "      <td>NaN</td>\n",
       "      <td>NaN</td>\n",
       "      <td>NaN</td>\n",
       "      <td>NaN</td>\n",
       "      <td>NaN</td>\n",
       "      <td>NaN</td>\n",
       "      <td>NaN</td>\n",
       "    </tr>\n",
       "    <tr>\n",
       "      <th>2</th>\n",
       "      <td>BAR.NOED.15UP.FE.ZS</td>\n",
       "      <td>Attainment</td>\n",
       "      <td>Barro-Lee: Percentage of female population age...</td>\n",
       "      <td>Percentage of female population age 15+ with n...</td>\n",
       "      <td>Percentage of female population age 15+ with n...</td>\n",
       "      <td>NaN</td>\n",
       "      <td>NaN</td>\n",
       "      <td>NaN</td>\n",
       "      <td>NaN</td>\n",
       "      <td>NaN</td>\n",
       "      <td>...</td>\n",
       "      <td>NaN</td>\n",
       "      <td>NaN</td>\n",
       "      <td>Robert J. Barro and Jong-Wha Lee: http://www.b...</td>\n",
       "      <td>NaN</td>\n",
       "      <td>NaN</td>\n",
       "      <td>NaN</td>\n",
       "      <td>NaN</td>\n",
       "      <td>NaN</td>\n",
       "      <td>NaN</td>\n",
       "      <td>NaN</td>\n",
       "    </tr>\n",
       "    <tr>\n",
       "      <th>3</th>\n",
       "      <td>BAR.NOED.15UP.ZS</td>\n",
       "      <td>Attainment</td>\n",
       "      <td>Barro-Lee: Percentage of population age 15+ wi...</td>\n",
       "      <td>Percentage of population age 15+ with no educa...</td>\n",
       "      <td>Percentage of population age 15+ with no educa...</td>\n",
       "      <td>NaN</td>\n",
       "      <td>NaN</td>\n",
       "      <td>NaN</td>\n",
       "      <td>NaN</td>\n",
       "      <td>NaN</td>\n",
       "      <td>...</td>\n",
       "      <td>NaN</td>\n",
       "      <td>NaN</td>\n",
       "      <td>Robert J. Barro and Jong-Wha Lee: http://www.b...</td>\n",
       "      <td>NaN</td>\n",
       "      <td>NaN</td>\n",
       "      <td>NaN</td>\n",
       "      <td>NaN</td>\n",
       "      <td>NaN</td>\n",
       "      <td>NaN</td>\n",
       "      <td>NaN</td>\n",
       "    </tr>\n",
       "    <tr>\n",
       "      <th>4</th>\n",
       "      <td>BAR.NOED.2024.FE.ZS</td>\n",
       "      <td>Attainment</td>\n",
       "      <td>Barro-Lee: Percentage of female population age...</td>\n",
       "      <td>Percentage of female population age 20-24 with...</td>\n",
       "      <td>Percentage of female population age 20-24 with...</td>\n",
       "      <td>NaN</td>\n",
       "      <td>NaN</td>\n",
       "      <td>NaN</td>\n",
       "      <td>NaN</td>\n",
       "      <td>NaN</td>\n",
       "      <td>...</td>\n",
       "      <td>NaN</td>\n",
       "      <td>NaN</td>\n",
       "      <td>Robert J. Barro and Jong-Wha Lee: http://www.b...</td>\n",
       "      <td>NaN</td>\n",
       "      <td>NaN</td>\n",
       "      <td>NaN</td>\n",
       "      <td>NaN</td>\n",
       "      <td>NaN</td>\n",
       "      <td>NaN</td>\n",
       "      <td>NaN</td>\n",
       "    </tr>\n",
       "  </tbody>\n",
       "</table>\n",
       "<p>5 rows × 21 columns</p>\n",
       "</div>"
      ],
      "text/plain": [
       "           Series Code       Topic  \\\n",
       "0  BAR.NOED.1519.FE.ZS  Attainment   \n",
       "1     BAR.NOED.1519.ZS  Attainment   \n",
       "2  BAR.NOED.15UP.FE.ZS  Attainment   \n",
       "3     BAR.NOED.15UP.ZS  Attainment   \n",
       "4  BAR.NOED.2024.FE.ZS  Attainment   \n",
       "\n",
       "                                      Indicator Name  \\\n",
       "0  Barro-Lee: Percentage of female population age...   \n",
       "1  Barro-Lee: Percentage of population age 15-19 ...   \n",
       "2  Barro-Lee: Percentage of female population age...   \n",
       "3  Barro-Lee: Percentage of population age 15+ wi...   \n",
       "4  Barro-Lee: Percentage of female population age...   \n",
       "\n",
       "                                    Short definition  \\\n",
       "0  Percentage of female population age 15-19 with...   \n",
       "1  Percentage of population age 15-19 with no edu...   \n",
       "2  Percentage of female population age 15+ with n...   \n",
       "3  Percentage of population age 15+ with no educa...   \n",
       "4  Percentage of female population age 20-24 with...   \n",
       "\n",
       "                                     Long definition  Unit of measure  \\\n",
       "0  Percentage of female population age 15-19 with...              NaN   \n",
       "1  Percentage of population age 15-19 with no edu...              NaN   \n",
       "2  Percentage of female population age 15+ with n...              NaN   \n",
       "3  Percentage of population age 15+ with no educa...              NaN   \n",
       "4  Percentage of female population age 20-24 with...              NaN   \n",
       "\n",
       "  Periodicity Base Period Other notes Aggregation method  ...  \\\n",
       "0         NaN         NaN         NaN                NaN  ...   \n",
       "1         NaN         NaN         NaN                NaN  ...   \n",
       "2         NaN         NaN         NaN                NaN  ...   \n",
       "3         NaN         NaN         NaN                NaN  ...   \n",
       "4         NaN         NaN         NaN                NaN  ...   \n",
       "\n",
       "  Notes from original source  General comments  \\\n",
       "0                        NaN               NaN   \n",
       "1                        NaN               NaN   \n",
       "2                        NaN               NaN   \n",
       "3                        NaN               NaN   \n",
       "4                        NaN               NaN   \n",
       "\n",
       "                                              Source  \\\n",
       "0  Robert J. Barro and Jong-Wha Lee: http://www.b...   \n",
       "1  Robert J. Barro and Jong-Wha Lee: http://www.b...   \n",
       "2  Robert J. Barro and Jong-Wha Lee: http://www.b...   \n",
       "3  Robert J. Barro and Jong-Wha Lee: http://www.b...   \n",
       "4  Robert J. Barro and Jong-Wha Lee: http://www.b...   \n",
       "\n",
       "  Statistical concept and methodology Development relevance  \\\n",
       "0                                 NaN                   NaN   \n",
       "1                                 NaN                   NaN   \n",
       "2                                 NaN                   NaN   \n",
       "3                                 NaN                   NaN   \n",
       "4                                 NaN                   NaN   \n",
       "\n",
       "  Related source links Other web links  Related indicators  License Type  \\\n",
       "0                  NaN             NaN                 NaN           NaN   \n",
       "1                  NaN             NaN                 NaN           NaN   \n",
       "2                  NaN             NaN                 NaN           NaN   \n",
       "3                  NaN             NaN                 NaN           NaN   \n",
       "4                  NaN             NaN                 NaN           NaN   \n",
       "\n",
       "   Unnamed: 20  \n",
       "0          NaN  \n",
       "1          NaN  \n",
       "2          NaN  \n",
       "3          NaN  \n",
       "4          NaN  \n",
       "\n",
       "[5 rows x 21 columns]"
      ]
     },
     "execution_count": 6,
     "metadata": {},
     "output_type": "execute_result"
    }
   ],
   "source": [
    "series.head()"
   ]
  },
  {
   "cell_type": "markdown",
   "id": "66d9c0af-200e-4e52-8657-9a20de4dbc38",
   "metadata": {},
   "source": [
    "le fichier EdStatsSeries contient  des informations sur les indicateurs socio-économiques étudiés pour chaque pays"
   ]
  },
  {
   "cell_type": "markdown",
   "id": "758431e7-2c16-42fe-840f-8b57d5b02b65",
   "metadata": {},
   "source": [
    "4- fichier EdStatsFootNote "
   ]
  },
  {
   "cell_type": "code",
   "execution_count": 7,
   "id": "bbcb47b9-48f7-4a2a-990c-a7f7517e679a",
   "metadata": {},
   "outputs": [
    {
     "data": {
      "text/html": [
       "<div>\n",
       "<style scoped>\n",
       "    .dataframe tbody tr th:only-of-type {\n",
       "        vertical-align: middle;\n",
       "    }\n",
       "\n",
       "    .dataframe tbody tr th {\n",
       "        vertical-align: top;\n",
       "    }\n",
       "\n",
       "    .dataframe thead th {\n",
       "        text-align: right;\n",
       "    }\n",
       "</style>\n",
       "<table border=\"1\" class=\"dataframe\">\n",
       "  <thead>\n",
       "    <tr style=\"text-align: right;\">\n",
       "      <th></th>\n",
       "      <th>CountryCode</th>\n",
       "      <th>SeriesCode</th>\n",
       "      <th>Year</th>\n",
       "      <th>DESCRIPTION</th>\n",
       "      <th>Unnamed: 4</th>\n",
       "    </tr>\n",
       "  </thead>\n",
       "  <tbody>\n",
       "    <tr>\n",
       "      <th>0</th>\n",
       "      <td>ABW</td>\n",
       "      <td>SE.PRE.ENRL.FE</td>\n",
       "      <td>YR2001</td>\n",
       "      <td>Country estimation.</td>\n",
       "      <td>NaN</td>\n",
       "    </tr>\n",
       "    <tr>\n",
       "      <th>1</th>\n",
       "      <td>ABW</td>\n",
       "      <td>SE.TER.TCHR.FE</td>\n",
       "      <td>YR2005</td>\n",
       "      <td>Country estimation.</td>\n",
       "      <td>NaN</td>\n",
       "    </tr>\n",
       "    <tr>\n",
       "      <th>2</th>\n",
       "      <td>ABW</td>\n",
       "      <td>SE.PRE.TCHR.FE</td>\n",
       "      <td>YR2000</td>\n",
       "      <td>Country estimation.</td>\n",
       "      <td>NaN</td>\n",
       "    </tr>\n",
       "    <tr>\n",
       "      <th>3</th>\n",
       "      <td>ABW</td>\n",
       "      <td>SE.SEC.ENRL.GC</td>\n",
       "      <td>YR2004</td>\n",
       "      <td>Country estimation.</td>\n",
       "      <td>NaN</td>\n",
       "    </tr>\n",
       "    <tr>\n",
       "      <th>4</th>\n",
       "      <td>ABW</td>\n",
       "      <td>SE.PRE.TCHR</td>\n",
       "      <td>YR2006</td>\n",
       "      <td>Country estimation.</td>\n",
       "      <td>NaN</td>\n",
       "    </tr>\n",
       "  </tbody>\n",
       "</table>\n",
       "</div>"
      ],
      "text/plain": [
       "  CountryCode      SeriesCode    Year          DESCRIPTION  Unnamed: 4\n",
       "0         ABW  SE.PRE.ENRL.FE  YR2001  Country estimation.         NaN\n",
       "1         ABW  SE.TER.TCHR.FE  YR2005  Country estimation.         NaN\n",
       "2         ABW  SE.PRE.TCHR.FE  YR2000  Country estimation.         NaN\n",
       "3         ABW  SE.SEC.ENRL.GC  YR2004  Country estimation.         NaN\n",
       "4         ABW     SE.PRE.TCHR  YR2006  Country estimation.         NaN"
      ]
     },
     "execution_count": 7,
     "metadata": {},
     "output_type": "execute_result"
    }
   ],
   "source": [
    "footNote.head()"
   ]
  },
  {
   "cell_type": "markdown",
   "id": "39fb2778-01a2-4e01-b1d6-a7fac7d8b29a",
   "metadata": {},
   "source": [
    "le fichier EdStatsFootNote contient les information  sur l'année d'origine des données"
   ]
  },
  {
   "cell_type": "markdown",
   "id": "50d50c97-30e5-4d71-a944-3b7671c3caed",
   "metadata": {},
   "source": [
    "5- fichier EdStatsData"
   ]
  },
  {
   "cell_type": "code",
   "execution_count": 8,
   "id": "e2e0c91b-24fd-461f-9378-57010ff431ad",
   "metadata": {},
   "outputs": [
    {
     "data": {
      "text/html": [
       "<div>\n",
       "<style scoped>\n",
       "    .dataframe tbody tr th:only-of-type {\n",
       "        vertical-align: middle;\n",
       "    }\n",
       "\n",
       "    .dataframe tbody tr th {\n",
       "        vertical-align: top;\n",
       "    }\n",
       "\n",
       "    .dataframe thead th {\n",
       "        text-align: right;\n",
       "    }\n",
       "</style>\n",
       "<table border=\"1\" class=\"dataframe\">\n",
       "  <thead>\n",
       "    <tr style=\"text-align: right;\">\n",
       "      <th></th>\n",
       "      <th>Country Name</th>\n",
       "      <th>Country Code</th>\n",
       "      <th>Indicator Name</th>\n",
       "      <th>Indicator Code</th>\n",
       "      <th>1970</th>\n",
       "      <th>1971</th>\n",
       "      <th>1972</th>\n",
       "      <th>1973</th>\n",
       "      <th>1974</th>\n",
       "      <th>1975</th>\n",
       "      <th>...</th>\n",
       "      <th>2060</th>\n",
       "      <th>2065</th>\n",
       "      <th>2070</th>\n",
       "      <th>2075</th>\n",
       "      <th>2080</th>\n",
       "      <th>2085</th>\n",
       "      <th>2090</th>\n",
       "      <th>2095</th>\n",
       "      <th>2100</th>\n",
       "      <th>Unnamed: 69</th>\n",
       "    </tr>\n",
       "  </thead>\n",
       "  <tbody>\n",
       "    <tr>\n",
       "      <th>0</th>\n",
       "      <td>Arab World</td>\n",
       "      <td>ARB</td>\n",
       "      <td>Adjusted net enrolment rate, lower secondary, ...</td>\n",
       "      <td>UIS.NERA.2</td>\n",
       "      <td>NaN</td>\n",
       "      <td>NaN</td>\n",
       "      <td>NaN</td>\n",
       "      <td>NaN</td>\n",
       "      <td>NaN</td>\n",
       "      <td>NaN</td>\n",
       "      <td>...</td>\n",
       "      <td>NaN</td>\n",
       "      <td>NaN</td>\n",
       "      <td>NaN</td>\n",
       "      <td>NaN</td>\n",
       "      <td>NaN</td>\n",
       "      <td>NaN</td>\n",
       "      <td>NaN</td>\n",
       "      <td>NaN</td>\n",
       "      <td>NaN</td>\n",
       "      <td>NaN</td>\n",
       "    </tr>\n",
       "    <tr>\n",
       "      <th>1</th>\n",
       "      <td>Arab World</td>\n",
       "      <td>ARB</td>\n",
       "      <td>Adjusted net enrolment rate, lower secondary, ...</td>\n",
       "      <td>UIS.NERA.2.F</td>\n",
       "      <td>NaN</td>\n",
       "      <td>NaN</td>\n",
       "      <td>NaN</td>\n",
       "      <td>NaN</td>\n",
       "      <td>NaN</td>\n",
       "      <td>NaN</td>\n",
       "      <td>...</td>\n",
       "      <td>NaN</td>\n",
       "      <td>NaN</td>\n",
       "      <td>NaN</td>\n",
       "      <td>NaN</td>\n",
       "      <td>NaN</td>\n",
       "      <td>NaN</td>\n",
       "      <td>NaN</td>\n",
       "      <td>NaN</td>\n",
       "      <td>NaN</td>\n",
       "      <td>NaN</td>\n",
       "    </tr>\n",
       "    <tr>\n",
       "      <th>2</th>\n",
       "      <td>Arab World</td>\n",
       "      <td>ARB</td>\n",
       "      <td>Adjusted net enrolment rate, lower secondary, ...</td>\n",
       "      <td>UIS.NERA.2.GPI</td>\n",
       "      <td>NaN</td>\n",
       "      <td>NaN</td>\n",
       "      <td>NaN</td>\n",
       "      <td>NaN</td>\n",
       "      <td>NaN</td>\n",
       "      <td>NaN</td>\n",
       "      <td>...</td>\n",
       "      <td>NaN</td>\n",
       "      <td>NaN</td>\n",
       "      <td>NaN</td>\n",
       "      <td>NaN</td>\n",
       "      <td>NaN</td>\n",
       "      <td>NaN</td>\n",
       "      <td>NaN</td>\n",
       "      <td>NaN</td>\n",
       "      <td>NaN</td>\n",
       "      <td>NaN</td>\n",
       "    </tr>\n",
       "    <tr>\n",
       "      <th>3</th>\n",
       "      <td>Arab World</td>\n",
       "      <td>ARB</td>\n",
       "      <td>Adjusted net enrolment rate, lower secondary, ...</td>\n",
       "      <td>UIS.NERA.2.M</td>\n",
       "      <td>NaN</td>\n",
       "      <td>NaN</td>\n",
       "      <td>NaN</td>\n",
       "      <td>NaN</td>\n",
       "      <td>NaN</td>\n",
       "      <td>NaN</td>\n",
       "      <td>...</td>\n",
       "      <td>NaN</td>\n",
       "      <td>NaN</td>\n",
       "      <td>NaN</td>\n",
       "      <td>NaN</td>\n",
       "      <td>NaN</td>\n",
       "      <td>NaN</td>\n",
       "      <td>NaN</td>\n",
       "      <td>NaN</td>\n",
       "      <td>NaN</td>\n",
       "      <td>NaN</td>\n",
       "    </tr>\n",
       "    <tr>\n",
       "      <th>4</th>\n",
       "      <td>Arab World</td>\n",
       "      <td>ARB</td>\n",
       "      <td>Adjusted net enrolment rate, primary, both sex...</td>\n",
       "      <td>SE.PRM.TENR</td>\n",
       "      <td>54.822121</td>\n",
       "      <td>54.894138</td>\n",
       "      <td>56.209438</td>\n",
       "      <td>57.267109</td>\n",
       "      <td>57.991138</td>\n",
       "      <td>59.36554</td>\n",
       "      <td>...</td>\n",
       "      <td>NaN</td>\n",
       "      <td>NaN</td>\n",
       "      <td>NaN</td>\n",
       "      <td>NaN</td>\n",
       "      <td>NaN</td>\n",
       "      <td>NaN</td>\n",
       "      <td>NaN</td>\n",
       "      <td>NaN</td>\n",
       "      <td>NaN</td>\n",
       "      <td>NaN</td>\n",
       "    </tr>\n",
       "  </tbody>\n",
       "</table>\n",
       "<p>5 rows × 70 columns</p>\n",
       "</div>"
      ],
      "text/plain": [
       "  Country Name Country Code  \\\n",
       "0   Arab World          ARB   \n",
       "1   Arab World          ARB   \n",
       "2   Arab World          ARB   \n",
       "3   Arab World          ARB   \n",
       "4   Arab World          ARB   \n",
       "\n",
       "                                      Indicator Name  Indicator Code  \\\n",
       "0  Adjusted net enrolment rate, lower secondary, ...      UIS.NERA.2   \n",
       "1  Adjusted net enrolment rate, lower secondary, ...    UIS.NERA.2.F   \n",
       "2  Adjusted net enrolment rate, lower secondary, ...  UIS.NERA.2.GPI   \n",
       "3  Adjusted net enrolment rate, lower secondary, ...    UIS.NERA.2.M   \n",
       "4  Adjusted net enrolment rate, primary, both sex...     SE.PRM.TENR   \n",
       "\n",
       "        1970       1971       1972       1973       1974      1975  ...  2060  \\\n",
       "0        NaN        NaN        NaN        NaN        NaN       NaN  ...   NaN   \n",
       "1        NaN        NaN        NaN        NaN        NaN       NaN  ...   NaN   \n",
       "2        NaN        NaN        NaN        NaN        NaN       NaN  ...   NaN   \n",
       "3        NaN        NaN        NaN        NaN        NaN       NaN  ...   NaN   \n",
       "4  54.822121  54.894138  56.209438  57.267109  57.991138  59.36554  ...   NaN   \n",
       "\n",
       "   2065  2070  2075  2080  2085  2090  2095  2100  Unnamed: 69  \n",
       "0   NaN   NaN   NaN   NaN   NaN   NaN   NaN   NaN          NaN  \n",
       "1   NaN   NaN   NaN   NaN   NaN   NaN   NaN   NaN          NaN  \n",
       "2   NaN   NaN   NaN   NaN   NaN   NaN   NaN   NaN          NaN  \n",
       "3   NaN   NaN   NaN   NaN   NaN   NaN   NaN   NaN          NaN  \n",
       "4   NaN   NaN   NaN   NaN   NaN   NaN   NaN   NaN          NaN  \n",
       "\n",
       "[5 rows x 70 columns]"
      ]
     },
     "execution_count": 8,
     "metadata": {},
     "output_type": "execute_result"
    }
   ],
   "source": [
    "data.head()"
   ]
  },
  {
   "cell_type": "markdown",
   "id": "e152ee59-90a7-46b8-9161-3ef42013c98f",
   "metadata": {},
   "source": [
    "le fichier EdStatsData contient les données l'évolution de nombreux indicateurs pour chaque pays à partir de 1970"
   ]
  },
  {
   "cell_type": "markdown",
   "id": "602ac36c-7ce8-4fea-928e-e3e95cb52892",
   "metadata": {},
   "source": [
    "C)  Filtrage des données selon des critères de sélection"
   ]
  },
  {
   "cell_type": "markdown",
   "id": "64615043-a1c3-44d6-84d3-99469f228a7b",
   "metadata": {},
   "source": [
    "- Pré-filtrage des données"
   ]
  },
  {
   "cell_type": "code",
   "execution_count": 9,
   "id": "b9f4247c-eb99-4028-aff6-26269bc5a187",
   "metadata": {},
   "outputs": [],
   "source": [
    "country2 = country.copy()"
   ]
  },
  {
   "cell_type": "code",
   "execution_count": 10,
   "id": "b584f2d1-db96-442b-8710-4ab8c0ffbcb1",
   "metadata": {},
   "outputs": [],
   "source": [
    "countrySeries2 = countrySeries.copy()"
   ]
  },
  {
   "cell_type": "code",
   "execution_count": 11,
   "id": "8426bd6b-1923-46cd-943b-d9ae90dbbf80",
   "metadata": {},
   "outputs": [],
   "source": [
    "data2 = data.copy()"
   ]
  },
  {
   "cell_type": "code",
   "execution_count": 12,
   "id": "7088611a-5e0d-4aa4-89a7-eded3508becb",
   "metadata": {},
   "outputs": [],
   "source": [
    "footNote2 = footNote.copy()"
   ]
  },
  {
   "cell_type": "code",
   "execution_count": 13,
   "id": "a8d43c9a-2d67-432e-87e7-4ef4961cac8c",
   "metadata": {},
   "outputs": [],
   "source": [
    "series2 = series.copy()"
   ]
  },
  {
   "cell_type": "markdown",
   "id": "fc065d1a-f9af-4045-b286-1c80dca0d472",
   "metadata": {},
   "source": [
    "- Identification des Nan"
   ]
  },
  {
   "cell_type": "code",
   "execution_count": 14,
   "id": "4d2ab166-d09e-4351-816e-6d3ccf550394",
   "metadata": {},
   "outputs": [
    {
     "data": {
      "text/plain": [
       "Country Code                                           0.000000\n",
       "Short Name                                             0.000000\n",
       "Table Name                                             0.000000\n",
       "Long Name                                              0.000000\n",
       "2-alpha code                                           1.244813\n",
       "Currency Unit                                         10.788382\n",
       "Special Notes                                         39.834025\n",
       "Region                                                11.203320\n",
       "Income Group                                          11.203320\n",
       "WB-2 code                                              0.414938\n",
       "National accounts base year                           14.937759\n",
       "National accounts reference year                      86.721992\n",
       "SNA price valuation                                   18.257261\n",
       "Lending category                                      40.248963\n",
       "Other groups                                          75.933610\n",
       "System of National Accounts                           10.788382\n",
       "Alternative conversion factor                         80.497925\n",
       "PPP survey year                                       39.834025\n",
       "Balance of Payments Manual in use                     24.896266\n",
       "External debt Reporting status                        48.547718\n",
       "System of trade                                       17.012448\n",
       "Government Accounting concept                         33.195021\n",
       "IMF data dissemination standard                       24.896266\n",
       "Latest population census                              11.618257\n",
       "Latest household survey                               41.493776\n",
       "Source of most recent Income and expenditure data     33.609959\n",
       "Vital registration complete                           53.941909\n",
       "Latest agricultural census                            41.078838\n",
       "Latest industrial data                                55.601660\n",
       "Latest trade data                                     23.236515\n",
       "Latest water withdrawal data                          25.726141\n",
       "Unnamed: 31                                          100.000000\n",
       "dtype: float64"
      ]
     },
     "execution_count": 14,
     "metadata": {},
     "output_type": "execute_result"
    }
   ],
   "source": [
    "country2.isna().sum()/len(country2)*100"
   ]
  },
  {
   "cell_type": "markdown",
   "id": "e8077022-36cf-4840-9657-155f21d4c80e",
   "metadata": {},
   "source": [
    "la colonne Unnamed: 31 du fichier EdStatsCountry contient uniquement des valeurs Nan"
   ]
  },
  {
   "cell_type": "code",
   "execution_count": 15,
   "id": "01c8f86d-a092-437c-ac93-86329db3e8f2",
   "metadata": {},
   "outputs": [
    {
     "data": {
      "text/plain": [
       "CountryCode      0.0\n",
       "SeriesCode       0.0\n",
       "DESCRIPTION      0.0\n",
       "Unnamed: 3     100.0\n",
       "dtype: float64"
      ]
     },
     "execution_count": 15,
     "metadata": {},
     "output_type": "execute_result"
    }
   ],
   "source": [
    "countrySeries2.isna().sum()/len(countrySeries2)*100"
   ]
  },
  {
   "cell_type": "markdown",
   "id": "84f0efff-0cf3-4117-8b85-a1b5376466ae",
   "metadata": {},
   "source": [
    "la colonne Unnamed: 3 du fichier EdStatsCountry-Series ne contient que des valeurs Nan elle est donc inutile "
   ]
  },
  {
   "cell_type": "code",
   "execution_count": 16,
   "id": "5071df09-1ad1-4f7b-a53f-bec91b04db7c",
   "metadata": {},
   "outputs": [
    {
     "data": {
      "text/plain": [
       "Country Name        0.000000\n",
       "Country Code        0.000000\n",
       "Indicator Name      0.000000\n",
       "Indicator Code      0.000000\n",
       "1970               91.849639\n",
       "                     ...    \n",
       "2085               94.200670\n",
       "2090               94.200670\n",
       "2095               94.200670\n",
       "2100               94.200670\n",
       "Unnamed: 69       100.000000\n",
       "Length: 70, dtype: float64"
      ]
     },
     "execution_count": 16,
     "metadata": {},
     "output_type": "execute_result"
    }
   ],
   "source": [
    "data2.isna().sum()/len(data2)*100"
   ]
  },
  {
   "cell_type": "markdown",
   "id": "d23b3c03-972a-40e1-92e3-0ad047c222c5",
   "metadata": {},
   "source": [
    "la colonnne Unnamed: 69 du fichier EdStatsData ne contient que des valeurs Nan elle est donc inutile"
   ]
  },
  {
   "cell_type": "code",
   "execution_count": 17,
   "id": "34918354-cbc0-466d-97d4-ea5c2ec02079",
   "metadata": {},
   "outputs": [
    {
     "data": {
      "text/plain": [
       "CountryCode      0.0\n",
       "SeriesCode       0.0\n",
       "Year             0.0\n",
       "DESCRIPTION      0.0\n",
       "Unnamed: 4     100.0\n",
       "dtype: float64"
      ]
     },
     "execution_count": 17,
     "metadata": {},
     "output_type": "execute_result"
    }
   ],
   "source": [
    "footNote2.isna().sum()/len(footNote2)*100"
   ]
  },
  {
   "cell_type": "markdown",
   "id": "73a52848-47f3-4d9b-952c-51018068b784",
   "metadata": {},
   "source": [
    "la colonne Unnamed: 4 du fichier EdStatsFootNote ne contient que des valeurs Nan.Elle est donc inutile"
   ]
  },
  {
   "cell_type": "code",
   "execution_count": 18,
   "id": "be9dc661-bac7-4326-8c2f-2ea95e3c3340",
   "metadata": {},
   "outputs": [
    {
     "data": {
      "text/plain": [
       "Series Code                              0.000000\n",
       "Topic                                    0.000000\n",
       "Indicator Name                           0.000000\n",
       "Short definition                        41.173261\n",
       "Long definition                          0.000000\n",
       "Unit of measure                        100.000000\n",
       "Periodicity                             97.298772\n",
       "Base Period                             91.432469\n",
       "Other notes                             84.938608\n",
       "Aggregation method                      98.717599\n",
       "Limitations and exceptions              99.618008\n",
       "Notes from original source             100.000000\n",
       "General comments                        99.618008\n",
       "Source                                   0.000000\n",
       "Statistical concept and methodology     99.372442\n",
       "Development relevance                   99.918145\n",
       "Related source links                    94.133697\n",
       "Other web links                        100.000000\n",
       "Related indicators                     100.000000\n",
       "License Type                           100.000000\n",
       "Unnamed: 20                            100.000000\n",
       "dtype: float64"
      ]
     },
     "execution_count": 18,
     "metadata": {},
     "output_type": "execute_result"
    }
   ],
   "source": [
    "series2.isna().sum()/len(series2)*100"
   ]
  },
  {
   "cell_type": "markdown",
   "id": "41ccbd28-9d8c-4a88-abe6-acc8697f5516",
   "metadata": {},
   "source": [
    "les colonnes other web links, related indicators ,License Type ,Unnamed: 20, Notes from original source, units of mesures ne contiennent que des valeurs Nan. donc elles sont inutiles"
   ]
  },
  {
   "cell_type": "markdown",
   "id": "4642b289-ccf2-4774-bcb4-6b265750d34d",
   "metadata": {},
   "source": [
    "- Description des informations contenues dans le jeu de données"
   ]
  },
  {
   "cell_type": "code",
   "execution_count": 19,
   "id": "9d9140fd-8502-44e9-bb8a-6095cf23451f",
   "metadata": {},
   "outputs": [
    {
     "data": {
      "text/plain": [
       "(241, 32)"
      ]
     },
     "execution_count": 19,
     "metadata": {},
     "output_type": "execute_result"
    }
   ],
   "source": [
    "country2.shape\n"
   ]
  },
  {
   "cell_type": "markdown",
   "id": "d3de73f1-1c33-45c3-9c30-f302ef9778c4",
   "metadata": {},
   "source": [
    "le fichier EdStatsCountry contient 241 lignes et 32 colonnes"
   ]
  },
  {
   "cell_type": "code",
   "execution_count": 20,
   "id": "1dd27f72-e040-417b-9a52-506264e06921",
   "metadata": {},
   "outputs": [
    {
     "data": {
      "text/plain": [
       "(613, 4)"
      ]
     },
     "execution_count": 20,
     "metadata": {},
     "output_type": "execute_result"
    }
   ],
   "source": [
    "countrySeries2.shape\n"
   ]
  },
  {
   "cell_type": "markdown",
   "id": "a2d95c47-6fc4-4f28-9e0c-bdb3fcd0736c",
   "metadata": {},
   "source": [
    "le fichier EdStatsCountrySeries contient 613 lignes et 4 colonnes"
   ]
  },
  {
   "cell_type": "code",
   "execution_count": 21,
   "id": "4a445dfd-480f-4117-9306-31d8be0aabb3",
   "metadata": {},
   "outputs": [
    {
     "data": {
      "text/plain": [
       "(886930, 70)"
      ]
     },
     "execution_count": 21,
     "metadata": {},
     "output_type": "execute_result"
    }
   ],
   "source": [
    "\n",
    "data2.shape\n"
   ]
  },
  {
   "cell_type": "markdown",
   "id": "6b41e8fc-7ef0-4ed6-89ed-b2355cd7c0a1",
   "metadata": {},
   "source": [
    "le fichier EdStatsData contient 886930 lignes et 70 colonnes"
   ]
  },
  {
   "cell_type": "code",
   "execution_count": 22,
   "id": "8f90e908-6f5e-4be2-a36c-1da5b12b2b58",
   "metadata": {},
   "outputs": [
    {
     "data": {
      "text/plain": [
       "(643638, 5)"
      ]
     },
     "execution_count": 22,
     "metadata": {},
     "output_type": "execute_result"
    }
   ],
   "source": [
    "footNote2.shape"
   ]
  },
  {
   "cell_type": "markdown",
   "id": "888b22f8-719e-429f-bf16-d1f9868e5d98",
   "metadata": {},
   "source": [
    "le fichier EdStatsFootNote contient 643638 lignes et 5 colonnes"
   ]
  },
  {
   "cell_type": "code",
   "execution_count": 23,
   "id": "19c77fad-c545-4ae4-bcd9-d53eb8414221",
   "metadata": {},
   "outputs": [
    {
     "data": {
      "text/plain": [
       "(3665, 21)"
      ]
     },
     "execution_count": 23,
     "metadata": {},
     "output_type": "execute_result"
    }
   ],
   "source": [
    "series2.shape"
   ]
  },
  {
   "cell_type": "markdown",
   "id": "c137d062-73f9-449b-9cfc-fc5fd5cfad7a",
   "metadata": {},
   "source": [
    "le fichier EdStatsSeries contient 3665 lignes et 21 colonnes"
   ]
  },
  {
   "cell_type": "markdown",
   "id": "d6d06400-59af-41e4-9122-4e090b6e9421",
   "metadata": {},
   "source": [
    "- Identification des duplicatas"
   ]
  },
  {
   "cell_type": "code",
   "execution_count": 24,
   "id": "a52ccea3-699a-46cf-9cdb-2c74bcf27d6f",
   "metadata": {},
   "outputs": [
    {
     "data": {
      "text/plain": [
       "0"
      ]
     },
     "execution_count": 24,
     "metadata": {},
     "output_type": "execute_result"
    }
   ],
   "source": [
    "country2.duplicated(keep=False).sum()"
   ]
  },
  {
   "cell_type": "code",
   "execution_count": 25,
   "id": "6104c8e2-35ec-4df0-b302-c522100f211e",
   "metadata": {},
   "outputs": [
    {
     "data": {
      "text/plain": [
       "0"
      ]
     },
     "execution_count": 25,
     "metadata": {},
     "output_type": "execute_result"
    }
   ],
   "source": [
    "countrySeries2.duplicated(keep=False).sum()"
   ]
  },
  {
   "cell_type": "code",
   "execution_count": 26,
   "id": "7b0d4b92-3957-420b-b561-ee85a82e3111",
   "metadata": {},
   "outputs": [
    {
     "data": {
      "text/plain": [
       "0"
      ]
     },
     "execution_count": 26,
     "metadata": {},
     "output_type": "execute_result"
    }
   ],
   "source": [
    "data2.duplicated(keep=False).sum()"
   ]
  },
  {
   "cell_type": "code",
   "execution_count": 27,
   "id": "b8bf27a3-fbfb-4119-9c8a-1ad9594ad211",
   "metadata": {},
   "outputs": [
    {
     "data": {
      "text/plain": [
       "0"
      ]
     },
     "execution_count": 27,
     "metadata": {},
     "output_type": "execute_result"
    }
   ],
   "source": [
    "footNote2.duplicated(keep=False).sum()"
   ]
  },
  {
   "cell_type": "code",
   "execution_count": 28,
   "id": "6fa3847c-7c4b-4daa-ba3d-51a4ac053781",
   "metadata": {},
   "outputs": [
    {
     "data": {
      "text/plain": [
       "0"
      ]
     },
     "execution_count": 28,
     "metadata": {},
     "output_type": "execute_result"
    }
   ],
   "source": [
    "series2.duplicated(keep=False).sum()"
   ]
  },
  {
   "cell_type": "markdown",
   "id": "700f5ee1-f698-4ee1-b399-4f5aefc6f2a5",
   "metadata": {},
   "source": [
    "Aucun des fichiers ne contient de duplicatas"
   ]
  },
  {
   "cell_type": "markdown",
   "id": "1863d017-dfb5-43ab-86e1-067a347f4a52",
   "metadata": {},
   "source": [
    "- Suppression des colonnes inutiles ou entièrement vides"
   ]
  },
  {
   "cell_type": "code",
   "execution_count": 29,
   "id": "097629a4-7fd3-4c4e-9712-3e98b59f0f2a",
   "metadata": {
    "tags": []
   },
   "outputs": [],
   "source": [
    "countrySeries2 = countrySeries2.drop(columns='Unnamed: 3')\n",
    "#suppression de la colonne contenant 100% de Nan"
   ]
  },
  {
   "cell_type": "code",
   "execution_count": 30,
   "id": "cbc1b084-b618-4b5c-be2b-f401b75a40ef",
   "metadata": {},
   "outputs": [],
   "source": [
    "country2 = country2.drop(columns='Unnamed: 31')\n",
    "#suppression de la colonne contenant 100% de Nan"
   ]
  },
  {
   "cell_type": "code",
   "execution_count": 31,
   "id": "c251f999-869a-4c1b-8c78-d08c09e9f53d",
   "metadata": {},
   "outputs": [],
   "source": [
    "data2= data2.drop(columns='Unnamed: 69')\n",
    "#suppression de la colonne contenant 100% de Nan"
   ]
  },
  {
   "cell_type": "code",
   "execution_count": 32,
   "id": "63ada7be-a558-4f6c-9f66-ff57454b2ae6",
   "metadata": {},
   "outputs": [],
   "source": [
    "series2 = series2.drop(columns='Unnamed: 20')\n",
    "#suppression de la colonne contenant 100% de Nan"
   ]
  },
  {
   "cell_type": "code",
   "execution_count": 33,
   "id": "82627448-5bfa-4947-a8fe-7693262d8b22",
   "metadata": {
    "tags": []
   },
   "outputs": [],
   "source": [
    "footNote2= footNote2.drop(columns='Unnamed: 4')\n",
    "#suppression de la colonne contenant 100% de Nan"
   ]
  },
  {
   "cell_type": "code",
   "execution_count": 34,
   "id": "4645da32-8a19-493e-ade7-a81736d2b259",
   "metadata": {},
   "outputs": [],
   "source": [
    "donnee = data2.merge(right = country2[['Country Code','Region']], \n",
    "                  on='Country Code', how='left')\n",
    "#Fusions des données de data2 et country2 en un seul dataFrame donnee pour avoir les colonnes uniquement utiles"
   ]
  },
  {
   "cell_type": "code",
   "execution_count": 35,
   "id": "f65c65fd-d585-48f3-af5b-6be04053e340",
   "metadata": {},
   "outputs": [
    {
     "data": {
      "text/html": [
       "<div>\n",
       "<style scoped>\n",
       "    .dataframe tbody tr th:only-of-type {\n",
       "        vertical-align: middle;\n",
       "    }\n",
       "\n",
       "    .dataframe tbody tr th {\n",
       "        vertical-align: top;\n",
       "    }\n",
       "\n",
       "    .dataframe thead th {\n",
       "        text-align: right;\n",
       "    }\n",
       "</style>\n",
       "<table border=\"1\" class=\"dataframe\">\n",
       "  <thead>\n",
       "    <tr style=\"text-align: right;\">\n",
       "      <th></th>\n",
       "      <th>Country Name</th>\n",
       "      <th>Country Code</th>\n",
       "      <th>Indicator Name</th>\n",
       "      <th>Indicator Code</th>\n",
       "      <th>1970</th>\n",
       "      <th>1971</th>\n",
       "      <th>1972</th>\n",
       "      <th>1973</th>\n",
       "      <th>1974</th>\n",
       "      <th>1975</th>\n",
       "      <th>...</th>\n",
       "      <th>2060</th>\n",
       "      <th>2065</th>\n",
       "      <th>2070</th>\n",
       "      <th>2075</th>\n",
       "      <th>2080</th>\n",
       "      <th>2085</th>\n",
       "      <th>2090</th>\n",
       "      <th>2095</th>\n",
       "      <th>2100</th>\n",
       "      <th>Region</th>\n",
       "    </tr>\n",
       "  </thead>\n",
       "  <tbody>\n",
       "    <tr>\n",
       "      <th>0</th>\n",
       "      <td>Arab World</td>\n",
       "      <td>ARB</td>\n",
       "      <td>Adjusted net enrolment rate, lower secondary, ...</td>\n",
       "      <td>UIS.NERA.2</td>\n",
       "      <td>NaN</td>\n",
       "      <td>NaN</td>\n",
       "      <td>NaN</td>\n",
       "      <td>NaN</td>\n",
       "      <td>NaN</td>\n",
       "      <td>NaN</td>\n",
       "      <td>...</td>\n",
       "      <td>NaN</td>\n",
       "      <td>NaN</td>\n",
       "      <td>NaN</td>\n",
       "      <td>NaN</td>\n",
       "      <td>NaN</td>\n",
       "      <td>NaN</td>\n",
       "      <td>NaN</td>\n",
       "      <td>NaN</td>\n",
       "      <td>NaN</td>\n",
       "      <td>NaN</td>\n",
       "    </tr>\n",
       "    <tr>\n",
       "      <th>1</th>\n",
       "      <td>Arab World</td>\n",
       "      <td>ARB</td>\n",
       "      <td>Adjusted net enrolment rate, lower secondary, ...</td>\n",
       "      <td>UIS.NERA.2.F</td>\n",
       "      <td>NaN</td>\n",
       "      <td>NaN</td>\n",
       "      <td>NaN</td>\n",
       "      <td>NaN</td>\n",
       "      <td>NaN</td>\n",
       "      <td>NaN</td>\n",
       "      <td>...</td>\n",
       "      <td>NaN</td>\n",
       "      <td>NaN</td>\n",
       "      <td>NaN</td>\n",
       "      <td>NaN</td>\n",
       "      <td>NaN</td>\n",
       "      <td>NaN</td>\n",
       "      <td>NaN</td>\n",
       "      <td>NaN</td>\n",
       "      <td>NaN</td>\n",
       "      <td>NaN</td>\n",
       "    </tr>\n",
       "    <tr>\n",
       "      <th>2</th>\n",
       "      <td>Arab World</td>\n",
       "      <td>ARB</td>\n",
       "      <td>Adjusted net enrolment rate, lower secondary, ...</td>\n",
       "      <td>UIS.NERA.2.GPI</td>\n",
       "      <td>NaN</td>\n",
       "      <td>NaN</td>\n",
       "      <td>NaN</td>\n",
       "      <td>NaN</td>\n",
       "      <td>NaN</td>\n",
       "      <td>NaN</td>\n",
       "      <td>...</td>\n",
       "      <td>NaN</td>\n",
       "      <td>NaN</td>\n",
       "      <td>NaN</td>\n",
       "      <td>NaN</td>\n",
       "      <td>NaN</td>\n",
       "      <td>NaN</td>\n",
       "      <td>NaN</td>\n",
       "      <td>NaN</td>\n",
       "      <td>NaN</td>\n",
       "      <td>NaN</td>\n",
       "    </tr>\n",
       "    <tr>\n",
       "      <th>3</th>\n",
       "      <td>Arab World</td>\n",
       "      <td>ARB</td>\n",
       "      <td>Adjusted net enrolment rate, lower secondary, ...</td>\n",
       "      <td>UIS.NERA.2.M</td>\n",
       "      <td>NaN</td>\n",
       "      <td>NaN</td>\n",
       "      <td>NaN</td>\n",
       "      <td>NaN</td>\n",
       "      <td>NaN</td>\n",
       "      <td>NaN</td>\n",
       "      <td>...</td>\n",
       "      <td>NaN</td>\n",
       "      <td>NaN</td>\n",
       "      <td>NaN</td>\n",
       "      <td>NaN</td>\n",
       "      <td>NaN</td>\n",
       "      <td>NaN</td>\n",
       "      <td>NaN</td>\n",
       "      <td>NaN</td>\n",
       "      <td>NaN</td>\n",
       "      <td>NaN</td>\n",
       "    </tr>\n",
       "    <tr>\n",
       "      <th>4</th>\n",
       "      <td>Arab World</td>\n",
       "      <td>ARB</td>\n",
       "      <td>Adjusted net enrolment rate, primary, both sex...</td>\n",
       "      <td>SE.PRM.TENR</td>\n",
       "      <td>54.822121</td>\n",
       "      <td>54.894138</td>\n",
       "      <td>56.209438</td>\n",
       "      <td>57.267109</td>\n",
       "      <td>57.991138</td>\n",
       "      <td>59.36554</td>\n",
       "      <td>...</td>\n",
       "      <td>NaN</td>\n",
       "      <td>NaN</td>\n",
       "      <td>NaN</td>\n",
       "      <td>NaN</td>\n",
       "      <td>NaN</td>\n",
       "      <td>NaN</td>\n",
       "      <td>NaN</td>\n",
       "      <td>NaN</td>\n",
       "      <td>NaN</td>\n",
       "      <td>NaN</td>\n",
       "    </tr>\n",
       "  </tbody>\n",
       "</table>\n",
       "<p>5 rows × 70 columns</p>\n",
       "</div>"
      ],
      "text/plain": [
       "  Country Name Country Code  \\\n",
       "0   Arab World          ARB   \n",
       "1   Arab World          ARB   \n",
       "2   Arab World          ARB   \n",
       "3   Arab World          ARB   \n",
       "4   Arab World          ARB   \n",
       "\n",
       "                                      Indicator Name  Indicator Code  \\\n",
       "0  Adjusted net enrolment rate, lower secondary, ...      UIS.NERA.2   \n",
       "1  Adjusted net enrolment rate, lower secondary, ...    UIS.NERA.2.F   \n",
       "2  Adjusted net enrolment rate, lower secondary, ...  UIS.NERA.2.GPI   \n",
       "3  Adjusted net enrolment rate, lower secondary, ...    UIS.NERA.2.M   \n",
       "4  Adjusted net enrolment rate, primary, both sex...     SE.PRM.TENR   \n",
       "\n",
       "        1970       1971       1972       1973       1974      1975  ...  2060  \\\n",
       "0        NaN        NaN        NaN        NaN        NaN       NaN  ...   NaN   \n",
       "1        NaN        NaN        NaN        NaN        NaN       NaN  ...   NaN   \n",
       "2        NaN        NaN        NaN        NaN        NaN       NaN  ...   NaN   \n",
       "3        NaN        NaN        NaN        NaN        NaN       NaN  ...   NaN   \n",
       "4  54.822121  54.894138  56.209438  57.267109  57.991138  59.36554  ...   NaN   \n",
       "\n",
       "   2065  2070  2075  2080  2085  2090  2095  2100  Region  \n",
       "0   NaN   NaN   NaN   NaN   NaN   NaN   NaN   NaN     NaN  \n",
       "1   NaN   NaN   NaN   NaN   NaN   NaN   NaN   NaN     NaN  \n",
       "2   NaN   NaN   NaN   NaN   NaN   NaN   NaN   NaN     NaN  \n",
       "3   NaN   NaN   NaN   NaN   NaN   NaN   NaN   NaN     NaN  \n",
       "4   NaN   NaN   NaN   NaN   NaN   NaN   NaN   NaN     NaN  \n",
       "\n",
       "[5 rows x 70 columns]"
      ]
     },
     "execution_count": 35,
     "metadata": {},
     "output_type": "execute_result"
    }
   ],
   "source": [
    "donnee.head()"
   ]
  },
  {
   "cell_type": "code",
   "execution_count": 36,
   "id": "032c4cb3-6e9b-4c5c-bbb3-d1d1ab1bac0d",
   "metadata": {},
   "outputs": [
    {
     "data": {
      "text/plain": [
       "(886930, 70)"
      ]
     },
     "execution_count": 36,
     "metadata": {},
     "output_type": "execute_result"
    }
   ],
   "source": [
    "donnee.shape"
   ]
  },
  {
   "cell_type": "markdown",
   "id": "41bfc638-de88-4372-844e-8da7df18520b",
   "metadata": {},
   "source": [
    "donnee contient 886930 lignes et 70 colonnes"
   ]
  },
  {
   "cell_type": "markdown",
   "id": "8993811b-467b-4218-b8bd-0cd0f75f15c9",
   "metadata": {},
   "source": [
    "- Sélectionner les indicateurs principals et supprimer les autres"
   ]
  },
  {
   "cell_type": "code",
   "execution_count": 37,
   "id": "2f84ba0e-de8e-468a-9c8a-9ccd2f301fc4",
   "metadata": {},
   "outputs": [],
   "source": [
    "nb_eleves = 'SP.POP.1524.TO.UN' #represente la population qui ont un tranche d'age entre 15 et 24 succeptible de s'inscrire au lycee et à l'université\n",
    "internet = 'IT.NET.USER.P2'   #represente le taux d'utilisation d'internet\n",
    "computer = \"IT.CMP.PCMP.P2\" #represente le taux d'utilisation d'ordinateur\n",
    "PIB = 'NY.GDP.PCAP.PP.CD' #represent le pib de chaque pays\n",
    "inscriptionUniversité = 'SE.TER.ENRL' # represente le taux d'insriscription à l'universite\n",
    "inscriptionLycée = 'UIS.E.3' # represe,te le taux d'inscription au lycee\n",
    "\n",
    "indicateur = [nb_eleves,internet,computer,PIB,inscriptionUniversité,inscriptionLycée]"
   ]
  },
  {
   "cell_type": "code",
   "execution_count": 38,
   "id": "1b021714-b795-45b6-832d-faf5ada93c7d",
   "metadata": {},
   "outputs": [
    {
     "data": {
      "text/html": [
       "<div>\n",
       "<style scoped>\n",
       "    .dataframe tbody tr th:only-of-type {\n",
       "        vertical-align: middle;\n",
       "    }\n",
       "\n",
       "    .dataframe tbody tr th {\n",
       "        vertical-align: top;\n",
       "    }\n",
       "\n",
       "    .dataframe thead th {\n",
       "        text-align: right;\n",
       "    }\n",
       "</style>\n",
       "<table border=\"1\" class=\"dataframe\">\n",
       "  <thead>\n",
       "    <tr style=\"text-align: right;\">\n",
       "      <th></th>\n",
       "      <th>Country Name</th>\n",
       "      <th>Country Code</th>\n",
       "      <th>Indicator Name</th>\n",
       "      <th>Indicator Code</th>\n",
       "      <th>1970</th>\n",
       "      <th>1971</th>\n",
       "      <th>1972</th>\n",
       "      <th>1973</th>\n",
       "      <th>1974</th>\n",
       "      <th>1975</th>\n",
       "      <th>...</th>\n",
       "      <th>2060</th>\n",
       "      <th>2065</th>\n",
       "      <th>2070</th>\n",
       "      <th>2075</th>\n",
       "      <th>2080</th>\n",
       "      <th>2085</th>\n",
       "      <th>2090</th>\n",
       "      <th>2095</th>\n",
       "      <th>2100</th>\n",
       "      <th>Region</th>\n",
       "    </tr>\n",
       "  </thead>\n",
       "  <tbody>\n",
       "    <tr>\n",
       "      <th>1204</th>\n",
       "      <td>Arab World</td>\n",
       "      <td>ARB</td>\n",
       "      <td>Enrolment in tertiary education, all programme...</td>\n",
       "      <td>SE.TER.ENRL</td>\n",
       "      <td>706416.125</td>\n",
       "      <td>733981.25</td>\n",
       "      <td>794759.0</td>\n",
       "      <td>871347.3125</td>\n",
       "      <td>957383.125</td>\n",
       "      <td>1066646.75</td>\n",
       "      <td>...</td>\n",
       "      <td>NaN</td>\n",
       "      <td>NaN</td>\n",
       "      <td>NaN</td>\n",
       "      <td>NaN</td>\n",
       "      <td>NaN</td>\n",
       "      <td>NaN</td>\n",
       "      <td>NaN</td>\n",
       "      <td>NaN</td>\n",
       "      <td>NaN</td>\n",
       "      <td>NaN</td>\n",
       "    </tr>\n",
       "    <tr>\n",
       "      <th>1214</th>\n",
       "      <td>Arab World</td>\n",
       "      <td>ARB</td>\n",
       "      <td>Enrolment in upper secondary education, both s...</td>\n",
       "      <td>UIS.E.3</td>\n",
       "      <td>NaN</td>\n",
       "      <td>NaN</td>\n",
       "      <td>NaN</td>\n",
       "      <td>NaN</td>\n",
       "      <td>NaN</td>\n",
       "      <td>NaN</td>\n",
       "      <td>...</td>\n",
       "      <td>NaN</td>\n",
       "      <td>NaN</td>\n",
       "      <td>NaN</td>\n",
       "      <td>NaN</td>\n",
       "      <td>NaN</td>\n",
       "      <td>NaN</td>\n",
       "      <td>NaN</td>\n",
       "      <td>NaN</td>\n",
       "      <td>NaN</td>\n",
       "      <td>NaN</td>\n",
       "    </tr>\n",
       "    <tr>\n",
       "      <th>1247</th>\n",
       "      <td>Arab World</td>\n",
       "      <td>ARB</td>\n",
       "      <td>GDP per capita, PPP (current international $)</td>\n",
       "      <td>NY.GDP.PCAP.PP.CD</td>\n",
       "      <td>NaN</td>\n",
       "      <td>NaN</td>\n",
       "      <td>NaN</td>\n",
       "      <td>NaN</td>\n",
       "      <td>NaN</td>\n",
       "      <td>NaN</td>\n",
       "      <td>...</td>\n",
       "      <td>NaN</td>\n",
       "      <td>NaN</td>\n",
       "      <td>NaN</td>\n",
       "      <td>NaN</td>\n",
       "      <td>NaN</td>\n",
       "      <td>NaN</td>\n",
       "      <td>NaN</td>\n",
       "      <td>NaN</td>\n",
       "      <td>NaN</td>\n",
       "      <td>NaN</td>\n",
       "    </tr>\n",
       "    <tr>\n",
       "      <th>1375</th>\n",
       "      <td>Arab World</td>\n",
       "      <td>ARB</td>\n",
       "      <td>Internet users (per 100 people)</td>\n",
       "      <td>IT.NET.USER.P2</td>\n",
       "      <td>NaN</td>\n",
       "      <td>NaN</td>\n",
       "      <td>NaN</td>\n",
       "      <td>NaN</td>\n",
       "      <td>NaN</td>\n",
       "      <td>NaN</td>\n",
       "      <td>...</td>\n",
       "      <td>NaN</td>\n",
       "      <td>NaN</td>\n",
       "      <td>NaN</td>\n",
       "      <td>NaN</td>\n",
       "      <td>NaN</td>\n",
       "      <td>NaN</td>\n",
       "      <td>NaN</td>\n",
       "      <td>NaN</td>\n",
       "      <td>NaN</td>\n",
       "      <td>NaN</td>\n",
       "    </tr>\n",
       "    <tr>\n",
       "      <th>2084</th>\n",
       "      <td>Arab World</td>\n",
       "      <td>ARB</td>\n",
       "      <td>Personal computers (per 100 people)</td>\n",
       "      <td>IT.CMP.PCMP.P2</td>\n",
       "      <td>NaN</td>\n",
       "      <td>NaN</td>\n",
       "      <td>NaN</td>\n",
       "      <td>NaN</td>\n",
       "      <td>NaN</td>\n",
       "      <td>NaN</td>\n",
       "      <td>...</td>\n",
       "      <td>NaN</td>\n",
       "      <td>NaN</td>\n",
       "      <td>NaN</td>\n",
       "      <td>NaN</td>\n",
       "      <td>NaN</td>\n",
       "      <td>NaN</td>\n",
       "      <td>NaN</td>\n",
       "      <td>NaN</td>\n",
       "      <td>NaN</td>\n",
       "      <td>NaN</td>\n",
       "    </tr>\n",
       "  </tbody>\n",
       "</table>\n",
       "<p>5 rows × 70 columns</p>\n",
       "</div>"
      ],
      "text/plain": [
       "     Country Name Country Code  \\\n",
       "1204   Arab World          ARB   \n",
       "1214   Arab World          ARB   \n",
       "1247   Arab World          ARB   \n",
       "1375   Arab World          ARB   \n",
       "2084   Arab World          ARB   \n",
       "\n",
       "                                         Indicator Name     Indicator Code  \\\n",
       "1204  Enrolment in tertiary education, all programme...        SE.TER.ENRL   \n",
       "1214  Enrolment in upper secondary education, both s...            UIS.E.3   \n",
       "1247      GDP per capita, PPP (current international $)  NY.GDP.PCAP.PP.CD   \n",
       "1375                    Internet users (per 100 people)     IT.NET.USER.P2   \n",
       "2084                Personal computers (per 100 people)     IT.CMP.PCMP.P2   \n",
       "\n",
       "            1970       1971      1972         1973        1974        1975  \\\n",
       "1204  706416.125  733981.25  794759.0  871347.3125  957383.125  1066646.75   \n",
       "1214         NaN        NaN       NaN          NaN         NaN         NaN   \n",
       "1247         NaN        NaN       NaN          NaN         NaN         NaN   \n",
       "1375         NaN        NaN       NaN          NaN         NaN         NaN   \n",
       "2084         NaN        NaN       NaN          NaN         NaN         NaN   \n",
       "\n",
       "      ...  2060  2065  2070  2075  2080  2085  2090  2095  2100  Region  \n",
       "1204  ...   NaN   NaN   NaN   NaN   NaN   NaN   NaN   NaN   NaN     NaN  \n",
       "1214  ...   NaN   NaN   NaN   NaN   NaN   NaN   NaN   NaN   NaN     NaN  \n",
       "1247  ...   NaN   NaN   NaN   NaN   NaN   NaN   NaN   NaN   NaN     NaN  \n",
       "1375  ...   NaN   NaN   NaN   NaN   NaN   NaN   NaN   NaN   NaN     NaN  \n",
       "2084  ...   NaN   NaN   NaN   NaN   NaN   NaN   NaN   NaN   NaN     NaN  \n",
       "\n",
       "[5 rows x 70 columns]"
      ]
     },
     "execution_count": 38,
     "metadata": {},
     "output_type": "execute_result"
    }
   ],
   "source": [
    "donnee2 = donnee[donnee[\"Indicator Code\"].isin(indicateur)]\n",
    "donnee2.head()"
   ]
  },
  {
   "cell_type": "markdown",
   "id": "25ec7fbe-c2fb-436f-9390-840d33e0716f",
   "metadata": {},
   "source": [
    "donnee2 est le nouveau dataframe qui ne contient que les donnees avec les indicateurs selectionnés"
   ]
  },
  {
   "cell_type": "code",
   "execution_count": 39,
   "id": "88fea66c-ab04-40d9-b26e-e24c166c60ee",
   "metadata": {},
   "outputs": [
    {
     "data": {
      "text/plain": [
       "(1452, 70)"
      ]
     },
     "execution_count": 39,
     "metadata": {},
     "output_type": "execute_result"
    }
   ],
   "source": [
    "donnee2.shape"
   ]
  },
  {
   "cell_type": "markdown",
   "id": "bffa03c3-12cb-4ba8-94d1-01525e477bed",
   "metadata": {},
   "source": [
    "donnee2 contient desormais 1452 lignes ainsi que 70 colonnes"
   ]
  },
  {
   "cell_type": "code",
   "execution_count": 40,
   "id": "6a6dfc8a-a0f3-4cd4-a1cb-e4a514e3123f",
   "metadata": {},
   "outputs": [],
   "source": [
    "donnee3 = donnee2.copy()\n"
   ]
  },
  {
   "cell_type": "markdown",
   "id": "da968dbc-eab6-4cf5-bb6f-0aa8c5e22a0d",
   "metadata": {},
   "source": [
    "on copie a nouveau le donnee2 pour eviter la corruption de données pendant le traitement future"
   ]
  },
  {
   "cell_type": "markdown",
   "id": "76adf2a2-d018-411c-9f13-f57e9b71290b",
   "metadata": {},
   "source": [
    "- Suppression des pays trop petits (Population < 3M d'habitants)"
   ]
  },
  {
   "cell_type": "code",
   "execution_count": 42,
   "id": "3f9e9ead-7510-49b7-a607-ea00a941f013",
   "metadata": {},
   "outputs": [],
   "source": [
    "#creation d'une colonne Moyenne qui va contenir la moyenne des données de 1970 à 2100\n",
    "donnee3['Moyenne'] = donnee3.iloc[:,4:69].mean(axis=1)"
   ]
  },
  {
   "cell_type": "code",
   "execution_count": 43,
   "id": "eda70df5-1aad-41b0-baec-355ced1b54ea",
   "metadata": {},
   "outputs": [
    {
     "data": {
      "text/html": [
       "<div>\n",
       "<style scoped>\n",
       "    .dataframe tbody tr th:only-of-type {\n",
       "        vertical-align: middle;\n",
       "    }\n",
       "\n",
       "    .dataframe tbody tr th {\n",
       "        vertical-align: top;\n",
       "    }\n",
       "\n",
       "    .dataframe thead th {\n",
       "        text-align: right;\n",
       "    }\n",
       "</style>\n",
       "<table border=\"1\" class=\"dataframe\">\n",
       "  <thead>\n",
       "    <tr style=\"text-align: right;\">\n",
       "      <th></th>\n",
       "      <th>Country Name</th>\n",
       "      <th>Country Code</th>\n",
       "      <th>Indicator Name</th>\n",
       "      <th>Indicator Code</th>\n",
       "      <th>1970</th>\n",
       "      <th>1971</th>\n",
       "      <th>1972</th>\n",
       "      <th>1973</th>\n",
       "      <th>1974</th>\n",
       "      <th>1975</th>\n",
       "      <th>...</th>\n",
       "      <th>2065</th>\n",
       "      <th>2070</th>\n",
       "      <th>2075</th>\n",
       "      <th>2080</th>\n",
       "      <th>2085</th>\n",
       "      <th>2090</th>\n",
       "      <th>2095</th>\n",
       "      <th>2100</th>\n",
       "      <th>Region</th>\n",
       "      <th>Moyenne</th>\n",
       "    </tr>\n",
       "  </thead>\n",
       "  <tbody>\n",
       "    <tr>\n",
       "      <th>1204</th>\n",
       "      <td>Arab World</td>\n",
       "      <td>ARB</td>\n",
       "      <td>Enrolment in tertiary education, all programme...</td>\n",
       "      <td>SE.TER.ENRL</td>\n",
       "      <td>706416.125</td>\n",
       "      <td>733981.25</td>\n",
       "      <td>794759.0</td>\n",
       "      <td>871347.3125</td>\n",
       "      <td>957383.125</td>\n",
       "      <td>1066646.75</td>\n",
       "      <td>...</td>\n",
       "      <td>NaN</td>\n",
       "      <td>NaN</td>\n",
       "      <td>NaN</td>\n",
       "      <td>NaN</td>\n",
       "      <td>NaN</td>\n",
       "      <td>NaN</td>\n",
       "      <td>NaN</td>\n",
       "      <td>NaN</td>\n",
       "      <td>NaN</td>\n",
       "      <td>3.939575e+06</td>\n",
       "    </tr>\n",
       "    <tr>\n",
       "      <th>1214</th>\n",
       "      <td>Arab World</td>\n",
       "      <td>ARB</td>\n",
       "      <td>Enrolment in upper secondary education, both s...</td>\n",
       "      <td>UIS.E.3</td>\n",
       "      <td>NaN</td>\n",
       "      <td>NaN</td>\n",
       "      <td>NaN</td>\n",
       "      <td>NaN</td>\n",
       "      <td>NaN</td>\n",
       "      <td>NaN</td>\n",
       "      <td>...</td>\n",
       "      <td>NaN</td>\n",
       "      <td>NaN</td>\n",
       "      <td>NaN</td>\n",
       "      <td>NaN</td>\n",
       "      <td>NaN</td>\n",
       "      <td>NaN</td>\n",
       "      <td>NaN</td>\n",
       "      <td>NaN</td>\n",
       "      <td>NaN</td>\n",
       "      <td>9.680486e+06</td>\n",
       "    </tr>\n",
       "    <tr>\n",
       "      <th>1247</th>\n",
       "      <td>Arab World</td>\n",
       "      <td>ARB</td>\n",
       "      <td>GDP per capita, PPP (current international $)</td>\n",
       "      <td>NY.GDP.PCAP.PP.CD</td>\n",
       "      <td>NaN</td>\n",
       "      <td>NaN</td>\n",
       "      <td>NaN</td>\n",
       "      <td>NaN</td>\n",
       "      <td>NaN</td>\n",
       "      <td>NaN</td>\n",
       "      <td>...</td>\n",
       "      <td>NaN</td>\n",
       "      <td>NaN</td>\n",
       "      <td>NaN</td>\n",
       "      <td>NaN</td>\n",
       "      <td>NaN</td>\n",
       "      <td>NaN</td>\n",
       "      <td>NaN</td>\n",
       "      <td>NaN</td>\n",
       "      <td>NaN</td>\n",
       "      <td>1.030066e+04</td>\n",
       "    </tr>\n",
       "    <tr>\n",
       "      <th>1375</th>\n",
       "      <td>Arab World</td>\n",
       "      <td>ARB</td>\n",
       "      <td>Internet users (per 100 people)</td>\n",
       "      <td>IT.NET.USER.P2</td>\n",
       "      <td>NaN</td>\n",
       "      <td>NaN</td>\n",
       "      <td>NaN</td>\n",
       "      <td>NaN</td>\n",
       "      <td>NaN</td>\n",
       "      <td>NaN</td>\n",
       "      <td>...</td>\n",
       "      <td>NaN</td>\n",
       "      <td>NaN</td>\n",
       "      <td>NaN</td>\n",
       "      <td>NaN</td>\n",
       "      <td>NaN</td>\n",
       "      <td>NaN</td>\n",
       "      <td>NaN</td>\n",
       "      <td>NaN</td>\n",
       "      <td>NaN</td>\n",
       "      <td>1.101257e+01</td>\n",
       "    </tr>\n",
       "    <tr>\n",
       "      <th>2084</th>\n",
       "      <td>Arab World</td>\n",
       "      <td>ARB</td>\n",
       "      <td>Personal computers (per 100 people)</td>\n",
       "      <td>IT.CMP.PCMP.P2</td>\n",
       "      <td>NaN</td>\n",
       "      <td>NaN</td>\n",
       "      <td>NaN</td>\n",
       "      <td>NaN</td>\n",
       "      <td>NaN</td>\n",
       "      <td>NaN</td>\n",
       "      <td>...</td>\n",
       "      <td>NaN</td>\n",
       "      <td>NaN</td>\n",
       "      <td>NaN</td>\n",
       "      <td>NaN</td>\n",
       "      <td>NaN</td>\n",
       "      <td>NaN</td>\n",
       "      <td>NaN</td>\n",
       "      <td>NaN</td>\n",
       "      <td>NaN</td>\n",
       "      <td>2.526916e+00</td>\n",
       "    </tr>\n",
       "  </tbody>\n",
       "</table>\n",
       "<p>5 rows × 71 columns</p>\n",
       "</div>"
      ],
      "text/plain": [
       "     Country Name Country Code  \\\n",
       "1204   Arab World          ARB   \n",
       "1214   Arab World          ARB   \n",
       "1247   Arab World          ARB   \n",
       "1375   Arab World          ARB   \n",
       "2084   Arab World          ARB   \n",
       "\n",
       "                                         Indicator Name     Indicator Code  \\\n",
       "1204  Enrolment in tertiary education, all programme...        SE.TER.ENRL   \n",
       "1214  Enrolment in upper secondary education, both s...            UIS.E.3   \n",
       "1247      GDP per capita, PPP (current international $)  NY.GDP.PCAP.PP.CD   \n",
       "1375                    Internet users (per 100 people)     IT.NET.USER.P2   \n",
       "2084                Personal computers (per 100 people)     IT.CMP.PCMP.P2   \n",
       "\n",
       "            1970       1971      1972         1973        1974        1975  \\\n",
       "1204  706416.125  733981.25  794759.0  871347.3125  957383.125  1066646.75   \n",
       "1214         NaN        NaN       NaN          NaN         NaN         NaN   \n",
       "1247         NaN        NaN       NaN          NaN         NaN         NaN   \n",
       "1375         NaN        NaN       NaN          NaN         NaN         NaN   \n",
       "2084         NaN        NaN       NaN          NaN         NaN         NaN   \n",
       "\n",
       "      ...  2065  2070  2075  2080  2085  2090  2095  2100  Region  \\\n",
       "1204  ...   NaN   NaN   NaN   NaN   NaN   NaN   NaN   NaN     NaN   \n",
       "1214  ...   NaN   NaN   NaN   NaN   NaN   NaN   NaN   NaN     NaN   \n",
       "1247  ...   NaN   NaN   NaN   NaN   NaN   NaN   NaN   NaN     NaN   \n",
       "1375  ...   NaN   NaN   NaN   NaN   NaN   NaN   NaN   NaN     NaN   \n",
       "2084  ...   NaN   NaN   NaN   NaN   NaN   NaN   NaN   NaN     NaN   \n",
       "\n",
       "           Moyenne  \n",
       "1204  3.939575e+06  \n",
       "1214  9.680486e+06  \n",
       "1247  1.030066e+04  \n",
       "1375  1.101257e+01  \n",
       "2084  2.526916e+00  \n",
       "\n",
       "[5 rows x 71 columns]"
      ]
     },
     "execution_count": 43,
     "metadata": {},
     "output_type": "execute_result"
    }
   ],
   "source": [
    "donnee3.head()"
   ]
  },
  {
   "cell_type": "code",
   "execution_count": 44,
   "id": "f52d80fa-39f1-444f-9523-213bb2b26797",
   "metadata": {
    "tags": []
   },
   "outputs": [
    {
     "data": {
      "text/html": [
       "<div>\n",
       "<style scoped>\n",
       "    .dataframe tbody tr th:only-of-type {\n",
       "        vertical-align: middle;\n",
       "    }\n",
       "\n",
       "    .dataframe tbody tr th {\n",
       "        vertical-align: top;\n",
       "    }\n",
       "\n",
       "    .dataframe thead th {\n",
       "        text-align: right;\n",
       "    }\n",
       "</style>\n",
       "<table border=\"1\" class=\"dataframe\">\n",
       "  <thead>\n",
       "    <tr style=\"text-align: right;\">\n",
       "      <th></th>\n",
       "      <th>Country Name</th>\n",
       "      <th>Country Code</th>\n",
       "      <th>Indicator Name</th>\n",
       "      <th>Indicator Code</th>\n",
       "      <th>1970</th>\n",
       "      <th>1971</th>\n",
       "      <th>1972</th>\n",
       "      <th>1973</th>\n",
       "      <th>1974</th>\n",
       "      <th>1975</th>\n",
       "      <th>...</th>\n",
       "      <th>2065</th>\n",
       "      <th>2070</th>\n",
       "      <th>2075</th>\n",
       "      <th>2080</th>\n",
       "      <th>2085</th>\n",
       "      <th>2090</th>\n",
       "      <th>2095</th>\n",
       "      <th>2100</th>\n",
       "      <th>Region</th>\n",
       "      <th>Moyenne</th>\n",
       "    </tr>\n",
       "  </thead>\n",
       "  <tbody>\n",
       "    <tr>\n",
       "      <th>97772</th>\n",
       "      <td>Albania</td>\n",
       "      <td>ALB</td>\n",
       "      <td>Population, ages 15-24, total</td>\n",
       "      <td>SP.POP.1524.TO.UN</td>\n",
       "      <td>NaN</td>\n",
       "      <td>NaN</td>\n",
       "      <td>NaN</td>\n",
       "      <td>NaN</td>\n",
       "      <td>NaN</td>\n",
       "      <td>NaN</td>\n",
       "      <td>...</td>\n",
       "      <td>NaN</td>\n",
       "      <td>NaN</td>\n",
       "      <td>NaN</td>\n",
       "      <td>NaN</td>\n",
       "      <td>NaN</td>\n",
       "      <td>NaN</td>\n",
       "      <td>NaN</td>\n",
       "      <td>NaN</td>\n",
       "      <td>Europe &amp; Central Asia</td>\n",
       "      <td>577454.538462</td>\n",
       "    </tr>\n",
       "    <tr>\n",
       "      <th>108767</th>\n",
       "      <td>Andorra</td>\n",
       "      <td>AND</td>\n",
       "      <td>Population, ages 15-24, total</td>\n",
       "      <td>SP.POP.1524.TO.UN</td>\n",
       "      <td>NaN</td>\n",
       "      <td>NaN</td>\n",
       "      <td>NaN</td>\n",
       "      <td>NaN</td>\n",
       "      <td>NaN</td>\n",
       "      <td>NaN</td>\n",
       "      <td>...</td>\n",
       "      <td>NaN</td>\n",
       "      <td>NaN</td>\n",
       "      <td>NaN</td>\n",
       "      <td>NaN</td>\n",
       "      <td>NaN</td>\n",
       "      <td>NaN</td>\n",
       "      <td>NaN</td>\n",
       "      <td>NaN</td>\n",
       "      <td>Europe &amp; Central Asia</td>\n",
       "      <td>7813.333333</td>\n",
       "    </tr>\n",
       "    <tr>\n",
       "      <th>116097</th>\n",
       "      <td>Antigua and Barbuda</td>\n",
       "      <td>ATG</td>\n",
       "      <td>Population, ages 15-24, total</td>\n",
       "      <td>SP.POP.1524.TO.UN</td>\n",
       "      <td>NaN</td>\n",
       "      <td>NaN</td>\n",
       "      <td>NaN</td>\n",
       "      <td>NaN</td>\n",
       "      <td>NaN</td>\n",
       "      <td>NaN</td>\n",
       "      <td>...</td>\n",
       "      <td>NaN</td>\n",
       "      <td>NaN</td>\n",
       "      <td>NaN</td>\n",
       "      <td>NaN</td>\n",
       "      <td>NaN</td>\n",
       "      <td>NaN</td>\n",
       "      <td>NaN</td>\n",
       "      <td>NaN</td>\n",
       "      <td>Latin America &amp; Caribbean</td>\n",
       "      <td>12980.500000</td>\n",
       "    </tr>\n",
       "    <tr>\n",
       "      <th>123427</th>\n",
       "      <td>Armenia</td>\n",
       "      <td>ARM</td>\n",
       "      <td>Population, ages 15-24, total</td>\n",
       "      <td>SP.POP.1524.TO.UN</td>\n",
       "      <td>NaN</td>\n",
       "      <td>NaN</td>\n",
       "      <td>NaN</td>\n",
       "      <td>NaN</td>\n",
       "      <td>NaN</td>\n",
       "      <td>NaN</td>\n",
       "      <td>...</td>\n",
       "      <td>NaN</td>\n",
       "      <td>NaN</td>\n",
       "      <td>NaN</td>\n",
       "      <td>NaN</td>\n",
       "      <td>NaN</td>\n",
       "      <td>NaN</td>\n",
       "      <td>NaN</td>\n",
       "      <td>NaN</td>\n",
       "      <td>Europe &amp; Central Asia</td>\n",
       "      <td>538121.692308</td>\n",
       "    </tr>\n",
       "    <tr>\n",
       "      <th>127092</th>\n",
       "      <td>Aruba</td>\n",
       "      <td>ABW</td>\n",
       "      <td>Population, ages 15-24, total</td>\n",
       "      <td>SP.POP.1524.TO.UN</td>\n",
       "      <td>NaN</td>\n",
       "      <td>NaN</td>\n",
       "      <td>NaN</td>\n",
       "      <td>NaN</td>\n",
       "      <td>NaN</td>\n",
       "      <td>NaN</td>\n",
       "      <td>...</td>\n",
       "      <td>NaN</td>\n",
       "      <td>NaN</td>\n",
       "      <td>NaN</td>\n",
       "      <td>NaN</td>\n",
       "      <td>NaN</td>\n",
       "      <td>NaN</td>\n",
       "      <td>NaN</td>\n",
       "      <td>NaN</td>\n",
       "      <td>Latin America &amp; Caribbean</td>\n",
       "      <td>11940.807692</td>\n",
       "    </tr>\n",
       "  </tbody>\n",
       "</table>\n",
       "<p>5 rows × 71 columns</p>\n",
       "</div>"
      ],
      "text/plain": [
       "               Country Name Country Code                 Indicator Name  \\\n",
       "97772               Albania          ALB  Population, ages 15-24, total   \n",
       "108767              Andorra          AND  Population, ages 15-24, total   \n",
       "116097  Antigua and Barbuda          ATG  Population, ages 15-24, total   \n",
       "123427              Armenia          ARM  Population, ages 15-24, total   \n",
       "127092                Aruba          ABW  Population, ages 15-24, total   \n",
       "\n",
       "           Indicator Code  1970  1971  1972  1973  1974  1975  ...  2065  \\\n",
       "97772   SP.POP.1524.TO.UN   NaN   NaN   NaN   NaN   NaN   NaN  ...   NaN   \n",
       "108767  SP.POP.1524.TO.UN   NaN   NaN   NaN   NaN   NaN   NaN  ...   NaN   \n",
       "116097  SP.POP.1524.TO.UN   NaN   NaN   NaN   NaN   NaN   NaN  ...   NaN   \n",
       "123427  SP.POP.1524.TO.UN   NaN   NaN   NaN   NaN   NaN   NaN  ...   NaN   \n",
       "127092  SP.POP.1524.TO.UN   NaN   NaN   NaN   NaN   NaN   NaN  ...   NaN   \n",
       "\n",
       "        2070  2075  2080  2085  2090  2095  2100                     Region  \\\n",
       "97772    NaN   NaN   NaN   NaN   NaN   NaN   NaN      Europe & Central Asia   \n",
       "108767   NaN   NaN   NaN   NaN   NaN   NaN   NaN      Europe & Central Asia   \n",
       "116097   NaN   NaN   NaN   NaN   NaN   NaN   NaN  Latin America & Caribbean   \n",
       "123427   NaN   NaN   NaN   NaN   NaN   NaN   NaN      Europe & Central Asia   \n",
       "127092   NaN   NaN   NaN   NaN   NaN   NaN   NaN  Latin America & Caribbean   \n",
       "\n",
       "              Moyenne  \n",
       "97772   577454.538462  \n",
       "108767    7813.333333  \n",
       "116097   12980.500000  \n",
       "123427  538121.692308  \n",
       "127092   11940.807692  \n",
       "\n",
       "[5 rows x 71 columns]"
      ]
     },
     "execution_count": 44,
     "metadata": {},
     "output_type": "execute_result"
    }
   ],
   "source": [
    "#Creation d'un dataFrame paysSupprime qui va contenir uniquement les données des pays qui doivent etre supprimés\n",
    "paysSupprime = donnee3.loc[(donnee3['Moyenne'] < 3000000) & (donnee3['Indicator Code'] == nb_eleves)]\n",
    "paysSupprime.head() "
   ]
  },
  {
   "cell_type": "code",
   "execution_count": 45,
   "id": "826424c7-4a91-4fe4-a6cc-fac582cec91a",
   "metadata": {},
   "outputs": [
    {
     "data": {
      "text/plain": [
       "['Albania',\n",
       " 'Andorra',\n",
       " 'Antigua and Barbuda',\n",
       " 'Armenia',\n",
       " 'Aruba',\n",
       " 'Australia',\n",
       " 'Austria',\n",
       " 'Azerbaijan',\n",
       " 'Bahamas, The',\n",
       " 'Bahrain',\n",
       " 'Barbados',\n",
       " 'Belarus',\n",
       " 'Belgium',\n",
       " 'Belize',\n",
       " 'Benin',\n",
       " 'Bermuda',\n",
       " 'Bhutan',\n",
       " 'Bolivia',\n",
       " 'Bosnia and Herzegovina',\n",
       " 'Botswana',\n",
       " 'Brunei Darussalam',\n",
       " 'Bulgaria',\n",
       " 'Burkina Faso',\n",
       " 'Burundi',\n",
       " 'Cabo Verde',\n",
       " 'Cambodia',\n",
       " 'Cayman Islands',\n",
       " 'Central African Republic',\n",
       " 'Chad',\n",
       " 'Chile',\n",
       " 'Comoros',\n",
       " 'Congo, Rep.',\n",
       " 'Costa Rica',\n",
       " 'Croatia',\n",
       " 'Cuba',\n",
       " 'Cyprus',\n",
       " 'Czech Republic',\n",
       " 'Denmark',\n",
       " 'Djibouti',\n",
       " 'Dominica',\n",
       " 'Dominican Republic',\n",
       " 'Ecuador',\n",
       " 'El Salvador',\n",
       " 'Equatorial Guinea',\n",
       " 'Eritrea',\n",
       " 'Estonia',\n",
       " 'Fiji',\n",
       " 'Finland',\n",
       " 'Gabon',\n",
       " 'Gambia, The',\n",
       " 'Georgia',\n",
       " 'Greece',\n",
       " 'Grenada',\n",
       " 'Guatemala',\n",
       " 'Guinea',\n",
       " 'Guinea-Bissau',\n",
       " 'Guyana',\n",
       " 'Haiti',\n",
       " 'Honduras',\n",
       " 'Hong Kong SAR, China',\n",
       " 'Hungary',\n",
       " 'Iceland',\n",
       " 'Ireland',\n",
       " 'Israel',\n",
       " 'Jamaica',\n",
       " 'Jordan',\n",
       " 'Kazakhstan',\n",
       " 'Kiribati',\n",
       " 'Kuwait',\n",
       " 'Kyrgyz Republic',\n",
       " 'Lao PDR',\n",
       " 'Latvia',\n",
       " 'Lebanon',\n",
       " 'Lesotho',\n",
       " 'Liberia',\n",
       " 'Libya',\n",
       " 'Liechtenstein',\n",
       " 'Lithuania',\n",
       " 'Luxembourg',\n",
       " 'Macao SAR, China',\n",
       " 'Macedonia, FYR',\n",
       " 'Malawi',\n",
       " 'Maldives',\n",
       " 'Mali',\n",
       " 'Malta',\n",
       " 'Marshall Islands',\n",
       " 'Mauritania',\n",
       " 'Mauritius',\n",
       " 'Micronesia, Fed. Sts.',\n",
       " 'Moldova',\n",
       " 'Mongolia',\n",
       " 'Namibia',\n",
       " 'Netherlands',\n",
       " 'New Zealand',\n",
       " 'Nicaragua',\n",
       " 'Niger',\n",
       " 'Norway',\n",
       " 'Oman',\n",
       " 'Palau',\n",
       " 'Panama',\n",
       " 'Papua New Guinea',\n",
       " 'Paraguay',\n",
       " 'Portugal',\n",
       " 'Qatar',\n",
       " 'Rwanda',\n",
       " 'Samoa',\n",
       " 'Sao Tome and Principe',\n",
       " 'Senegal',\n",
       " 'Seychelles',\n",
       " 'Sierra Leone',\n",
       " 'Singapore',\n",
       " 'Slovak Republic',\n",
       " 'Slovenia',\n",
       " 'Solomon Islands',\n",
       " 'Somalia',\n",
       " 'St. Kitts and Nevis',\n",
       " 'St. Lucia',\n",
       " 'St. Vincent and the Grenadines',\n",
       " 'Suriname',\n",
       " 'Swaziland',\n",
       " 'Sweden',\n",
       " 'Switzerland',\n",
       " 'Tajikistan',\n",
       " 'Timor-Leste',\n",
       " 'Togo',\n",
       " 'Tonga',\n",
       " 'Trinidad and Tobago',\n",
       " 'Tunisia',\n",
       " 'Turkmenistan',\n",
       " 'United Arab Emirates',\n",
       " 'Uruguay',\n",
       " 'Vanuatu',\n",
       " 'West Bank and Gaza',\n",
       " 'Zambia',\n",
       " 'Zimbabwe']"
      ]
     },
     "execution_count": 45,
     "metadata": {},
     "output_type": "execute_result"
    }
   ],
   "source": [
    "# creation d'une liste nommée listPays qui va contenir la liste des pays a supprimer\n",
    "listPays = paysSupprime ['Country Name'].unique().tolist()\n",
    "listPays"
   ]
  },
  {
   "cell_type": "code",
   "execution_count": 46,
   "id": "383819eb-3ac7-43bb-b190-2eb244c07ad8",
   "metadata": {},
   "outputs": [],
   "source": [
    "# suppression des pays dans donnee3\n",
    "for i in range(len(listPays)):\n",
    "    donnee3.drop(donnee3[donnee3['Country Name'] == listPays[i]].index, inplace = True)\n",
    "    "
   ]
  },
  {
   "cell_type": "code",
   "execution_count": 47,
   "id": "2b9a4d57-df25-42de-ab30-f4891e55a4da",
   "metadata": {},
   "outputs": [
    {
     "data": {
      "text/plain": [
       "(642, 71)"
      ]
     },
     "execution_count": 47,
     "metadata": {},
     "output_type": "execute_result"
    }
   ],
   "source": [
    "donnee3.shape"
   ]
  },
  {
   "cell_type": "markdown",
   "id": "34684bb1-f900-4d91-8ceb-e92c6cafed3b",
   "metadata": {},
   "source": [
    "donnee3 contient desormais 642 lignes "
   ]
  },
  {
   "cell_type": "markdown",
   "id": "f440ee30-e67b-4089-83fd-233fa325e591",
   "metadata": {},
   "source": [
    "- Suppression des pays très pauvres (PIB trop bas)"
   ]
  },
  {
   "cell_type": "code",
   "execution_count": 48,
   "id": "4608a7c1-da32-419b-bfa7-91d0f969ea03",
   "metadata": {
    "tags": []
   },
   "outputs": [
    {
     "data": {
      "text/plain": [
       "11517.198739832658"
      ]
     },
     "execution_count": 48,
     "metadata": {},
     "output_type": "execute_result"
    }
   ],
   "source": [
    "#selection des donnees avec comme indicateur le PIB\n",
    "donneePIB = donnee3[donnee3['Indicator Code'] == PIB ]\n",
    "donneePIB ['Moyenne'].mean()\n",
    "#calcul de la moyenne de PIB de tout les pays "
   ]
  },
  {
   "cell_type": "code",
   "execution_count": 49,
   "id": "ac9dbb5b-e63b-431a-bccc-4f5951150faf",
   "metadata": {},
   "outputs": [
    {
     "data": {
      "text/html": [
       "<div>\n",
       "<style scoped>\n",
       "    .dataframe tbody tr th:only-of-type {\n",
       "        vertical-align: middle;\n",
       "    }\n",
       "\n",
       "    .dataframe tbody tr th {\n",
       "        vertical-align: top;\n",
       "    }\n",
       "\n",
       "    .dataframe thead th {\n",
       "        text-align: right;\n",
       "    }\n",
       "</style>\n",
       "<table border=\"1\" class=\"dataframe\">\n",
       "  <thead>\n",
       "    <tr style=\"text-align: right;\">\n",
       "      <th></th>\n",
       "      <th>Country Name</th>\n",
       "      <th>Country Code</th>\n",
       "      <th>Indicator Name</th>\n",
       "      <th>Indicator Code</th>\n",
       "      <th>1970</th>\n",
       "      <th>1971</th>\n",
       "      <th>1972</th>\n",
       "      <th>1973</th>\n",
       "      <th>1974</th>\n",
       "      <th>1975</th>\n",
       "      <th>...</th>\n",
       "      <th>2065</th>\n",
       "      <th>2070</th>\n",
       "      <th>2075</th>\n",
       "      <th>2080</th>\n",
       "      <th>2085</th>\n",
       "      <th>2090</th>\n",
       "      <th>2095</th>\n",
       "      <th>2100</th>\n",
       "      <th>Region</th>\n",
       "      <th>Moyenne</th>\n",
       "    </tr>\n",
       "  </thead>\n",
       "  <tbody>\n",
       "    <tr>\n",
       "      <th>1247</th>\n",
       "      <td>Arab World</td>\n",
       "      <td>ARB</td>\n",
       "      <td>GDP per capita, PPP (current international $)</td>\n",
       "      <td>NY.GDP.PCAP.PP.CD</td>\n",
       "      <td>NaN</td>\n",
       "      <td>NaN</td>\n",
       "      <td>NaN</td>\n",
       "      <td>NaN</td>\n",
       "      <td>NaN</td>\n",
       "      <td>NaN</td>\n",
       "      <td>...</td>\n",
       "      <td>NaN</td>\n",
       "      <td>NaN</td>\n",
       "      <td>NaN</td>\n",
       "      <td>NaN</td>\n",
       "      <td>NaN</td>\n",
       "      <td>NaN</td>\n",
       "      <td>NaN</td>\n",
       "      <td>NaN</td>\n",
       "      <td>NaN</td>\n",
       "      <td>10300.657721</td>\n",
       "    </tr>\n",
       "    <tr>\n",
       "      <th>4912</th>\n",
       "      <td>East Asia &amp; Pacific</td>\n",
       "      <td>EAS</td>\n",
       "      <td>GDP per capita, PPP (current international $)</td>\n",
       "      <td>NY.GDP.PCAP.PP.CD</td>\n",
       "      <td>NaN</td>\n",
       "      <td>NaN</td>\n",
       "      <td>NaN</td>\n",
       "      <td>NaN</td>\n",
       "      <td>NaN</td>\n",
       "      <td>NaN</td>\n",
       "      <td>...</td>\n",
       "      <td>NaN</td>\n",
       "      <td>NaN</td>\n",
       "      <td>NaN</td>\n",
       "      <td>NaN</td>\n",
       "      <td>NaN</td>\n",
       "      <td>NaN</td>\n",
       "      <td>NaN</td>\n",
       "      <td>NaN</td>\n",
       "      <td>NaN</td>\n",
       "      <td>8295.853561</td>\n",
       "    </tr>\n",
       "    <tr>\n",
       "      <th>8577</th>\n",
       "      <td>East Asia &amp; Pacific (excluding high income)</td>\n",
       "      <td>EAP</td>\n",
       "      <td>GDP per capita, PPP (current international $)</td>\n",
       "      <td>NY.GDP.PCAP.PP.CD</td>\n",
       "      <td>NaN</td>\n",
       "      <td>NaN</td>\n",
       "      <td>NaN</td>\n",
       "      <td>NaN</td>\n",
       "      <td>NaN</td>\n",
       "      <td>NaN</td>\n",
       "      <td>...</td>\n",
       "      <td>NaN</td>\n",
       "      <td>NaN</td>\n",
       "      <td>NaN</td>\n",
       "      <td>NaN</td>\n",
       "      <td>NaN</td>\n",
       "      <td>NaN</td>\n",
       "      <td>NaN</td>\n",
       "      <td>NaN</td>\n",
       "      <td>NaN</td>\n",
       "      <td>5723.733206</td>\n",
       "    </tr>\n",
       "    <tr>\n",
       "      <th>19572</th>\n",
       "      <td>Europe &amp; Central Asia (excluding high income)</td>\n",
       "      <td>ECA</td>\n",
       "      <td>GDP per capita, PPP (current international $)</td>\n",
       "      <td>NY.GDP.PCAP.PP.CD</td>\n",
       "      <td>NaN</td>\n",
       "      <td>NaN</td>\n",
       "      <td>NaN</td>\n",
       "      <td>NaN</td>\n",
       "      <td>NaN</td>\n",
       "      <td>NaN</td>\n",
       "      <td>...</td>\n",
       "      <td>NaN</td>\n",
       "      <td>NaN</td>\n",
       "      <td>NaN</td>\n",
       "      <td>NaN</td>\n",
       "      <td>NaN</td>\n",
       "      <td>NaN</td>\n",
       "      <td>NaN</td>\n",
       "      <td>NaN</td>\n",
       "      <td>NaN</td>\n",
       "      <td>10384.399447</td>\n",
       "    </tr>\n",
       "    <tr>\n",
       "      <th>26902</th>\n",
       "      <td>Heavily indebted poor countries (HIPC)</td>\n",
       "      <td>HPC</td>\n",
       "      <td>GDP per capita, PPP (current international $)</td>\n",
       "      <td>NY.GDP.PCAP.PP.CD</td>\n",
       "      <td>NaN</td>\n",
       "      <td>NaN</td>\n",
       "      <td>NaN</td>\n",
       "      <td>NaN</td>\n",
       "      <td>NaN</td>\n",
       "      <td>NaN</td>\n",
       "      <td>...</td>\n",
       "      <td>NaN</td>\n",
       "      <td>NaN</td>\n",
       "      <td>NaN</td>\n",
       "      <td>NaN</td>\n",
       "      <td>NaN</td>\n",
       "      <td>NaN</td>\n",
       "      <td>NaN</td>\n",
       "      <td>NaN</td>\n",
       "      <td>NaN</td>\n",
       "      <td>1415.461117</td>\n",
       "    </tr>\n",
       "  </tbody>\n",
       "</table>\n",
       "<p>5 rows × 71 columns</p>\n",
       "</div>"
      ],
      "text/plain": [
       "                                        Country Name Country Code  \\\n",
       "1247                                      Arab World          ARB   \n",
       "4912                             East Asia & Pacific          EAS   \n",
       "8577     East Asia & Pacific (excluding high income)          EAP   \n",
       "19572  Europe & Central Asia (excluding high income)          ECA   \n",
       "26902         Heavily indebted poor countries (HIPC)          HPC   \n",
       "\n",
       "                                      Indicator Name     Indicator Code  1970  \\\n",
       "1247   GDP per capita, PPP (current international $)  NY.GDP.PCAP.PP.CD   NaN   \n",
       "4912   GDP per capita, PPP (current international $)  NY.GDP.PCAP.PP.CD   NaN   \n",
       "8577   GDP per capita, PPP (current international $)  NY.GDP.PCAP.PP.CD   NaN   \n",
       "19572  GDP per capita, PPP (current international $)  NY.GDP.PCAP.PP.CD   NaN   \n",
       "26902  GDP per capita, PPP (current international $)  NY.GDP.PCAP.PP.CD   NaN   \n",
       "\n",
       "       1971  1972  1973  1974  1975  ...  2065  2070  2075  2080  2085  2090  \\\n",
       "1247    NaN   NaN   NaN   NaN   NaN  ...   NaN   NaN   NaN   NaN   NaN   NaN   \n",
       "4912    NaN   NaN   NaN   NaN   NaN  ...   NaN   NaN   NaN   NaN   NaN   NaN   \n",
       "8577    NaN   NaN   NaN   NaN   NaN  ...   NaN   NaN   NaN   NaN   NaN   NaN   \n",
       "19572   NaN   NaN   NaN   NaN   NaN  ...   NaN   NaN   NaN   NaN   NaN   NaN   \n",
       "26902   NaN   NaN   NaN   NaN   NaN  ...   NaN   NaN   NaN   NaN   NaN   NaN   \n",
       "\n",
       "       2095  2100  Region       Moyenne  \n",
       "1247    NaN   NaN     NaN  10300.657721  \n",
       "4912    NaN   NaN     NaN   8295.853561  \n",
       "8577    NaN   NaN     NaN   5723.733206  \n",
       "19572   NaN   NaN     NaN  10384.399447  \n",
       "26902   NaN   NaN     NaN   1415.461117  \n",
       "\n",
       "[5 rows x 71 columns]"
      ]
     },
     "execution_count": 49,
     "metadata": {},
     "output_type": "execute_result"
    }
   ],
   "source": [
    "#selection des pays n'ayant que des PIB inferieur à la moyenne calculé\n",
    "paysPauvre = donneePIB[(donneePIB['Moyenne'] < 11517.198739832658)]\n",
    "paysPauvre.head() "
   ]
  },
  {
   "cell_type": "code",
   "execution_count": 50,
   "id": "dda1d2ab-d710-4df5-99d7-aad9252d5667",
   "metadata": {},
   "outputs": [
    {
     "data": {
      "text/plain": [
       "['Arab World',\n",
       " 'East Asia & Pacific',\n",
       " 'East Asia & Pacific (excluding high income)',\n",
       " 'Europe & Central Asia (excluding high income)',\n",
       " 'Heavily indebted poor countries (HIPC)',\n",
       " 'Latin America & Caribbean',\n",
       " 'Latin America & Caribbean (excluding high income)',\n",
       " 'Least developed countries: UN classification',\n",
       " 'Low & middle income',\n",
       " 'Low income',\n",
       " 'Lower middle income',\n",
       " 'Middle East & North Africa (excluding high income)',\n",
       " 'Middle income',\n",
       " 'South Asia',\n",
       " 'Sub-Saharan Africa',\n",
       " 'Sub-Saharan Africa (excluding high income)',\n",
       " 'Upper middle income',\n",
       " 'World',\n",
       " 'Afghanistan',\n",
       " 'Algeria',\n",
       " 'Angola',\n",
       " 'Bangladesh',\n",
       " 'Brazil',\n",
       " 'Cameroon',\n",
       " 'China',\n",
       " 'Colombia',\n",
       " 'Congo, Dem. Rep.',\n",
       " \"Cote d'Ivoire\",\n",
       " 'Egypt, Arab Rep.',\n",
       " 'Ethiopia',\n",
       " 'Ghana',\n",
       " 'India',\n",
       " 'Indonesia',\n",
       " 'Iraq',\n",
       " 'Kenya',\n",
       " 'Kosovo',\n",
       " 'Madagascar',\n",
       " 'Morocco',\n",
       " 'Mozambique',\n",
       " 'Myanmar',\n",
       " 'Nepal',\n",
       " 'Nigeria',\n",
       " 'Pakistan',\n",
       " 'Peru',\n",
       " 'Philippines',\n",
       " 'Romania',\n",
       " 'Serbia',\n",
       " 'South Africa',\n",
       " 'South Sudan',\n",
       " 'Sri Lanka',\n",
       " 'Sudan',\n",
       " 'Tanzania',\n",
       " 'Thailand',\n",
       " 'Tuvalu',\n",
       " 'Uganda',\n",
       " 'Ukraine',\n",
       " 'Uzbekistan',\n",
       " 'Vietnam',\n",
       " 'Yemen, Rep.']"
      ]
     },
     "execution_count": 50,
     "metadata": {},
     "output_type": "execute_result"
    }
   ],
   "source": [
    "listPays2 = paysPauvre['Country Name'].unique().tolist()\n",
    "\n",
    "listPays2"
   ]
  },
  {
   "cell_type": "code",
   "execution_count": 51,
   "id": "9d212b6b-9d9b-460c-9a23-c16a3c8e4618",
   "metadata": {},
   "outputs": [],
   "source": [
    "#Suppression des pays pauvres avec un faible PIB\n",
    "for i in range(len(listPays2)):\n",
    "    donnee3.drop(donnee3[donnee3['Country Name'] == listPays2[i]].index, inplace = True)\n",
    "    "
   ]
  },
  {
   "cell_type": "code",
   "execution_count": 52,
   "id": "be53c20a-48cf-45a4-85e8-433627e9c9e6",
   "metadata": {},
   "outputs": [
    {
     "data": {
      "text/plain": [
       "(288, 71)"
      ]
     },
     "execution_count": 52,
     "metadata": {},
     "output_type": "execute_result"
    }
   ],
   "source": [
    "donnee3.shape"
   ]
  },
  {
   "cell_type": "markdown",
   "id": "1569bcbb-5826-4342-856d-b37b93f38ed4",
   "metadata": {},
   "source": [
    "Il ne reste plus que 288 lignes de données"
   ]
  },
  {
   "cell_type": "markdown",
   "id": "e41b5b42-6aa4-448c-86c3-45a16b4e4727",
   "metadata": {},
   "source": [
    "- Suppression des pays mal enregistré"
   ]
  },
  {
   "cell_type": "code",
   "execution_count": 53,
   "id": "7542308c-9113-4809-9c88-3e7992680ac8",
   "metadata": {
    "tags": []
   },
   "outputs": [
    {
     "data": {
      "text/plain": [
       "array(['Euro area', 'Europe & Central Asia', 'European Union',\n",
       "       'High income', 'Middle East & North Africa', 'North America',\n",
       "       'OECD members', 'American Samoa', 'Argentina',\n",
       "       'British Virgin Islands', 'Canada', 'Channel Islands', 'Curacao',\n",
       "       'Faroe Islands', 'France', 'French Polynesia', 'Germany',\n",
       "       'Gibraltar', 'Greenland', 'Guam', 'Iran, Islamic Rep.',\n",
       "       'Isle of Man', 'Italy', 'Japan', 'Korea, Dem. People’s Rep.',\n",
       "       'Korea, Rep.', 'Malaysia', 'Mexico', 'Monaco', 'Montenegro',\n",
       "       'Nauru', 'New Caledonia', 'Northern Mariana Islands', 'Poland',\n",
       "       'Puerto Rico', 'Russian Federation', 'San Marino', 'Saudi Arabia',\n",
       "       'Sint Maarten (Dutch part)', 'Spain', 'St. Martin (French part)',\n",
       "       'Syrian Arab Republic', 'Turkey', 'Turks and Caicos Islands',\n",
       "       'United Kingdom', 'United States', 'Venezuela, RB',\n",
       "       'Virgin Islands (U.S.)'], dtype=object)"
      ]
     },
     "execution_count": 53,
     "metadata": {},
     "output_type": "execute_result"
    }
   ],
   "source": [
    "donnee3['Country Name'].unique()"
   ]
  },
  {
   "cell_type": "code",
   "execution_count": 54,
   "id": "30e8c7ee-3762-463a-9a1a-ea544fc34e05",
   "metadata": {},
   "outputs": [],
   "source": [
    "#liste des pays qui sont soit des regions, soit mal enregistré, soit des partis de d'autres pays\n",
    "listPays3= ['Euro area', 'Europe & Central Asia', 'European Union',\n",
    "       'High income', 'Middle East & North Africa', 'North America',\n",
    "       'OECD members', 'American Samoa', 'British Virgin Islands','Channel Islands','Faroe Islands'  ,'French Polynesia', 'Sint Maarten (Dutch part)','St. Martin (French part)','Turks and Caicos Islands', 'Northern Mariana Islands','Virgin Islands (U.S.)']"
   ]
  },
  {
   "cell_type": "code",
   "execution_count": 55,
   "id": "ca3e219b-9426-4641-af7f-04b1a3bcd9f3",
   "metadata": {},
   "outputs": [],
   "source": [
    "#Suppression des pays de la liste\n",
    "for i in range(len(listPays3)):\n",
    "    donnee3.drop(donnee3[donnee3['Country Name'] == listPays3[i]].index, inplace = True)"
   ]
  },
  {
   "cell_type": "code",
   "execution_count": 56,
   "id": "ef1240ba-ba8b-4e41-bbba-6462626919d5",
   "metadata": {},
   "outputs": [
    {
     "data": {
      "text/plain": [
       "array(['Argentina', 'Canada', 'Curacao', 'France', 'Germany', 'Gibraltar',\n",
       "       'Greenland', 'Guam', 'Iran, Islamic Rep.', 'Isle of Man', 'Italy',\n",
       "       'Japan', 'Korea, Dem. People’s Rep.', 'Korea, Rep.', 'Malaysia',\n",
       "       'Mexico', 'Monaco', 'Montenegro', 'Nauru', 'New Caledonia',\n",
       "       'Poland', 'Puerto Rico', 'Russian Federation', 'San Marino',\n",
       "       'Saudi Arabia', 'Spain', 'Syrian Arab Republic', 'Turkey',\n",
       "       'United Kingdom', 'United States', 'Venezuela, RB'], dtype=object)"
      ]
     },
     "execution_count": 56,
     "metadata": {},
     "output_type": "execute_result"
    }
   ],
   "source": [
    "donnee3['Country Name'].unique()"
   ]
  },
  {
   "cell_type": "code",
   "execution_count": 57,
   "id": "e714bb30-a747-4cdd-bf8d-d9b39548a282",
   "metadata": {},
   "outputs": [
    {
     "data": {
      "text/plain": [
       "(186, 71)"
      ]
     },
     "execution_count": 57,
     "metadata": {},
     "output_type": "execute_result"
    }
   ],
   "source": [
    "donnee3.shape"
   ]
  },
  {
   "cell_type": "markdown",
   "id": "a717645a-2ce7-4319-b25e-a12fcca61757",
   "metadata": {},
   "source": [
    "donnee3 a maintenant 186 lignes"
   ]
  },
  {
   "cell_type": "markdown",
   "id": "b862a02f-d849-42c9-9d2c-21798659998c",
   "metadata": {},
   "source": [
    "- Suppression des anciennes années , mal renseignées et les annees qui ont 50% de NaN"
   ]
  },
  {
   "cell_type": "markdown",
   "id": "ec3341e5-39ce-4fbb-9e2b-babb7a306d23",
   "metadata": {},
   "source": [
    "1- detection des annees avec 50% de NAN"
   ]
  },
  {
   "cell_type": "code",
   "execution_count": 58,
   "id": "5f92f755-79fc-4d07-9c26-c25417406586",
   "metadata": {},
   "outputs": [
    {
     "data": {
      "text/plain": [
       "1970    97.849462\n",
       "1971    89.784946\n",
       "1972    89.784946\n",
       "1973    90.322581\n",
       "1974    89.784946\n",
       "1975    89.247312\n",
       "1976    88.709677\n",
       "1977    90.322581\n",
       "1978    89.784946\n",
       "1979    89.247312\n",
       "dtype: float64"
      ]
     },
     "execution_count": 58,
     "metadata": {},
     "output_type": "execute_result"
    }
   ],
   "source": [
    "donnee3.iloc[:,4:14].isnull().sum()/len(donnee3)*100"
   ]
  },
  {
   "cell_type": "code",
   "execution_count": 59,
   "id": "e7cfc30a-5f1f-40dd-a57a-f352b29f57eb",
   "metadata": {},
   "outputs": [
    {
     "data": {
      "text/plain": [
       "1981    88.709677\n",
       "1982    88.709677\n",
       "1983    89.247312\n",
       "1984    89.784946\n",
       "1985    88.709677\n",
       "1986    87.634409\n",
       "1987    87.634409\n",
       "1988    82.795699\n",
       "1989    81.720430\n",
       "1990    46.774194\n",
       "dtype: float64"
      ]
     },
     "execution_count": 59,
     "metadata": {},
     "output_type": "execute_result"
    }
   ],
   "source": [
    "donnee3.iloc[:,15:25].isnull().sum()/len(donnee3)*100"
   ]
  },
  {
   "cell_type": "code",
   "execution_count": 60,
   "id": "685de8d0-5de3-4c7b-9365-7b6941fa0de5",
   "metadata": {},
   "outputs": [],
   "source": [
    "#Suppression des Annees de 1970 à 1989\n",
    "donnee3= donnee3.drop(columns=['1970', '1971', '1972', '1973', '1974', '1975', '1976', '1977', '1978',\n",
    "       '1979', '1980', '1981', '1982', '1983', '1984', '1985', '1986', '1987',\n",
    "       '1988', '1989'])"
   ]
  },
  {
   "cell_type": "code",
   "execution_count": 61,
   "id": "acd459bf-9a21-4f71-a2a3-ef6e96a453f8",
   "metadata": {},
   "outputs": [
    {
     "data": {
      "text/plain": [
       "1990    46.774194\n",
       "1991    53.763441\n",
       "1992    52.688172\n",
       "1993    52.688172\n",
       "1994    48.387097\n",
       "1995    46.236559\n",
       "1996    48.924731\n",
       "1997    47.849462\n",
       "1998    45.698925\n",
       "1999    33.870968\n",
       "2000    32.258065\n",
       "dtype: float64"
      ]
     },
     "execution_count": 61,
     "metadata": {},
     "output_type": "execute_result"
    }
   ],
   "source": [
    "donnee3.iloc[:,4:15].isnull().sum()/len(donnee3)*100"
   ]
  },
  {
   "cell_type": "code",
   "execution_count": 62,
   "id": "1d686e73-1638-4df1-8ebb-61f6910ffda6",
   "metadata": {},
   "outputs": [],
   "source": [
    "#suppression des annees 1991 - 1993\n",
    "donnee3 = donnee3.drop(columns=[ '1991', '1992', '1993'])"
   ]
  },
  {
   "cell_type": "code",
   "execution_count": 63,
   "id": "5731fa7a-e2a0-49e7-9a7f-87076cd7b8b4",
   "metadata": {},
   "outputs": [
    {
     "data": {
      "text/plain": [
       "1990    46.774194\n",
       "1994    48.387097\n",
       "1995    46.236559\n",
       "1996    48.924731\n",
       "1997    47.849462\n",
       "1998    45.698925\n",
       "1999    33.870968\n",
       "2000    32.258065\n",
       "2001    32.258065\n",
       "2002    32.795699\n",
       "2003    32.795699\n",
       "dtype: float64"
      ]
     },
     "execution_count": 63,
     "metadata": {},
     "output_type": "execute_result"
    }
   ],
   "source": [
    "donnee3.iloc[:,4:15].isnull().sum()/len(donnee3)*100"
   ]
  },
  {
   "cell_type": "code",
   "execution_count": 64,
   "id": "c6d04643-9df7-42d7-a4f8-f0e8b1553e73",
   "metadata": {},
   "outputs": [
    {
     "data": {
      "text/plain": [
       "2004    31.720430\n",
       "2005    32.258065\n",
       "2006    34.946237\n",
       "2007    39.247312\n",
       "2008    39.784946\n",
       "2009    38.709677\n",
       "2010    42.473118\n",
       "2011    40.860215\n",
       "2012    41.397849\n",
       "2013    42.473118\n",
       "dtype: float64"
      ]
     },
     "execution_count": 64,
     "metadata": {},
     "output_type": "execute_result"
    }
   ],
   "source": [
    "donnee3.iloc[:,15:25].isnull().sum()/len(donnee3)*100"
   ]
  },
  {
   "cell_type": "code",
   "execution_count": 65,
   "id": "456930c4-97b8-44de-b229-7eb407c41c07",
   "metadata": {},
   "outputs": [
    {
     "data": {
      "text/plain": [
       "2013     42.473118\n",
       "2014     48.387097\n",
       "2015     58.602151\n",
       "2016     76.344086\n",
       "2017    100.000000\n",
       "2020    100.000000\n",
       "2025    100.000000\n",
       "2030    100.000000\n",
       "2035    100.000000\n",
       "2040    100.000000\n",
       "2045    100.000000\n",
       "dtype: float64"
      ]
     },
     "execution_count": 65,
     "metadata": {},
     "output_type": "execute_result"
    }
   ],
   "source": [
    "donnee3.iloc[:,24:35].isnull().sum()/len(donnee3)*100"
   ]
  },
  {
   "cell_type": "code",
   "execution_count": 66,
   "id": "85656fc2-275a-498c-9bf0-2fcf45e8f7d2",
   "metadata": {},
   "outputs": [
    {
     "data": {
      "text/plain": [
       "2045    100.0\n",
       "2050    100.0\n",
       "2055    100.0\n",
       "2060    100.0\n",
       "2065    100.0\n",
       "2070    100.0\n",
       "2075    100.0\n",
       "2080    100.0\n",
       "2085    100.0\n",
       "2090    100.0\n",
       "2095    100.0\n",
       "2100    100.0\n",
       "dtype: float64"
      ]
     },
     "execution_count": 66,
     "metadata": {},
     "output_type": "execute_result"
    }
   ],
   "source": [
    "donnee3.iloc[:,34:46].isnull().sum()/len(donnee3)*100"
   ]
  },
  {
   "cell_type": "code",
   "execution_count": 67,
   "id": "803271a8-d066-4c81-9b33-a414a987f4b0",
   "metadata": {},
   "outputs": [],
   "source": [
    "#suppression des annees de 2015 à 2100\n",
    "donnee3 = donnee3.drop(columns=['2015', '2016', '2017', '2020', '2025',\n",
    "       '2030', '2035', '2040', '2045', '2050', '2055', '2060', '2065', '2070',\n",
    "       '2075', '2080', '2085', '2090', '2095', '2100'])"
   ]
  },
  {
   "cell_type": "code",
   "execution_count": 68,
   "id": "0eec4d21-2ec7-4795-a077-eed33258e697",
   "metadata": {},
   "outputs": [
    {
     "data": {
      "text/plain": [
       "(186, 28)"
      ]
     },
     "execution_count": 68,
     "metadata": {},
     "output_type": "execute_result"
    }
   ],
   "source": [
    "donnee3.shape"
   ]
  },
  {
   "cell_type": "markdown",
   "id": "5352d285-00d4-4933-8ab4-55b6a2a2c85d",
   "metadata": {},
   "source": [
    "Il reste 189 lignes et 28 colonnes"
   ]
  },
  {
   "cell_type": "code",
   "execution_count": 69,
   "id": "beda4f12-29d9-4d78-8bb5-6d2a7ae203c9",
   "metadata": {},
   "outputs": [
    {
     "data": {
      "text/plain": [
       "Index(['Country Name', 'Country Code', 'Indicator Name', 'Indicator Code',\n",
       "       '1990', '1994', '1995', '1996', '1997', '1998', '1999', '2000', '2001',\n",
       "       '2002', '2003', '2004', '2005', '2006', '2007', '2008', '2009', '2010',\n",
       "       '2011', '2012', '2013', '2014', 'Region', 'Moyenne'],\n",
       "      dtype='object')"
      ]
     },
     "execution_count": 69,
     "metadata": {},
     "output_type": "execute_result"
    }
   ],
   "source": [
    "donnee3.columns"
   ]
  },
  {
   "cell_type": "markdown",
   "id": "93d1b8e9-b6d9-4688-8c20-fca093d46fd5",
   "metadata": {},
   "source": [
    "2- Suppression des anciennes années ( 1990', '1994', '1995', '1996', '1997', '1998', '1999', '2000', '2001',\n",
    "       '2002', '2003', '2004')"
   ]
  },
  {
   "cell_type": "code",
   "execution_count": 70,
   "id": "2009b936-8533-488c-a699-76b9f3858cb1",
   "metadata": {},
   "outputs": [],
   "source": [
    "donnee3 = donnee3.drop(columns=[ '1990', '1994', '1995', '1996', '1997', '1998', '1999', '2000', '2001',\n",
    "       '2002', '2003', '2004'])"
   ]
  },
  {
   "cell_type": "code",
   "execution_count": 71,
   "id": "c96237e1-af5e-4f10-8199-00fe0723b345",
   "metadata": {
    "tags": []
   },
   "outputs": [
    {
     "data": {
      "text/plain": [
       "(186, 16)"
      ]
     },
     "execution_count": 71,
     "metadata": {},
     "output_type": "execute_result"
    }
   ],
   "source": [
    "donnee3.shape"
   ]
  },
  {
   "cell_type": "markdown",
   "id": "203f1aab-215c-4e45-aa20-3f73341a4a5a",
   "metadata": {},
   "source": [
    "Il ne reste plus que 16 colonnes"
   ]
  },
  {
   "cell_type": "code",
   "execution_count": 72,
   "id": "f85f7138-51b1-467f-ba06-1db643185bfa",
   "metadata": {},
   "outputs": [],
   "source": [
    "donnee3 = donnee3.drop(columns=[ 'Moyenne'])"
   ]
  },
  {
   "cell_type": "markdown",
   "id": "c5526aca-5159-4c6b-a2b2-b5426dc399ba",
   "metadata": {},
   "source": [
    "- Sélectionner les années en fonction des indicateurs"
   ]
  },
  {
   "cell_type": "markdown",
   "id": "fb90811d-8811-4831-a4ed-d4ef328d3015",
   "metadata": {},
   "source": [
    "Nous avons ainsi decidés en fonction des indicateurs selections que nos annees d'etudes se limitera de 2005 - 2014"
   ]
  },
  {
   "cell_type": "markdown",
   "id": "06b08263-9ee6-4a6f-af4b-b6834240bba2",
   "metadata": {},
   "source": [
    "D- Choix de 10 meilleurs pays"
   ]
  },
  {
   "cell_type": "markdown",
   "id": "db4829ce-cdde-40b4-b7a2-71a9922c24c3",
   "metadata": {},
   "source": [
    "- Scoring par pays "
   ]
  },
  {
   "cell_type": "markdown",
   "id": "18a8b939-5c2d-4ee8-b61e-3860186fa087",
   "metadata": {},
   "source": [
    "Creation d'un dataframe ScoringPays ou on va calculer les scores par pays dependament des indicateurs choisi"
   ]
  },
  {
   "cell_type": "code",
   "execution_count": 73,
   "id": "379f05a9-623a-4e82-bed8-7d02c5ee663b",
   "metadata": {},
   "outputs": [],
   "source": [
    "ScoringPays = donnee3.copy()\n",
    "ScoringPays['AnneesEtudes'] = donnee3.iloc[:,4:14].mean(axis=1)"
   ]
  },
  {
   "cell_type": "code",
   "execution_count": 75,
   "id": "ff02725d-5750-4459-a7c9-1302b048bc5e",
   "metadata": {},
   "outputs": [
    {
     "data": {
      "text/html": [
       "<div>\n",
       "<style scoped>\n",
       "    .dataframe tbody tr th:only-of-type {\n",
       "        vertical-align: middle;\n",
       "    }\n",
       "\n",
       "    .dataframe tbody tr th {\n",
       "        vertical-align: top;\n",
       "    }\n",
       "\n",
       "    .dataframe thead th {\n",
       "        text-align: right;\n",
       "    }\n",
       "</style>\n",
       "<table border=\"1\" class=\"dataframe\">\n",
       "  <thead>\n",
       "    <tr style=\"text-align: right;\">\n",
       "      <th></th>\n",
       "      <th>Country Name</th>\n",
       "      <th>Country Code</th>\n",
       "      <th>Indicator Name</th>\n",
       "      <th>Indicator Code</th>\n",
       "      <th>2005</th>\n",
       "      <th>2006</th>\n",
       "      <th>2007</th>\n",
       "      <th>2008</th>\n",
       "      <th>2009</th>\n",
       "      <th>2010</th>\n",
       "      <th>2011</th>\n",
       "      <th>2012</th>\n",
       "      <th>2013</th>\n",
       "      <th>2014</th>\n",
       "      <th>Region</th>\n",
       "      <th>AnneesEtudes</th>\n",
       "    </tr>\n",
       "  </thead>\n",
       "  <tbody>\n",
       "    <tr>\n",
       "      <th>118484</th>\n",
       "      <td>Argentina</td>\n",
       "      <td>ARG</td>\n",
       "      <td>Enrolment in tertiary education, all programme...</td>\n",
       "      <td>SE.TER.ENRL</td>\n",
       "      <td>2.082577e+06</td>\n",
       "      <td>2.202032e+06</td>\n",
       "      <td>2.208291e+06</td>\n",
       "      <td>2.287874e+06</td>\n",
       "      <td>2.387049e+06</td>\n",
       "      <td>2.520985e+06</td>\n",
       "      <td>2.660514e+06</td>\n",
       "      <td>2.726557e+06</td>\n",
       "      <td>2.768211e+06</td>\n",
       "      <td>2.869450e+06</td>\n",
       "      <td>Latin America &amp; Caribbean</td>\n",
       "      <td>2.471354e+06</td>\n",
       "    </tr>\n",
       "    <tr>\n",
       "      <th>118494</th>\n",
       "      <td>Argentina</td>\n",
       "      <td>ARG</td>\n",
       "      <td>Enrolment in upper secondary education, both s...</td>\n",
       "      <td>UIS.E.3</td>\n",
       "      <td>1.447769e+06</td>\n",
       "      <td>1.447612e+06</td>\n",
       "      <td>1.451352e+06</td>\n",
       "      <td>1.464197e+06</td>\n",
       "      <td>1.492714e+06</td>\n",
       "      <td>1.520478e+06</td>\n",
       "      <td>1.651653e+06</td>\n",
       "      <td>1.685178e+06</td>\n",
       "      <td>1.722700e+06</td>\n",
       "      <td>NaN</td>\n",
       "      <td>Latin America &amp; Caribbean</td>\n",
       "      <td>1.542628e+06</td>\n",
       "    </tr>\n",
       "    <tr>\n",
       "      <th>118527</th>\n",
       "      <td>Argentina</td>\n",
       "      <td>ARG</td>\n",
       "      <td>GDP per capita, PPP (current international $)</td>\n",
       "      <td>NY.GDP.PCAP.PP.CD</td>\n",
       "      <td>1.381771e+04</td>\n",
       "      <td>1.522751e+04</td>\n",
       "      <td>1.686554e+04</td>\n",
       "      <td>1.771144e+04</td>\n",
       "      <td>1.661812e+04</td>\n",
       "      <td>1.833354e+04</td>\n",
       "      <td>1.962935e+04</td>\n",
       "      <td>1.957901e+04</td>\n",
       "      <td>2.016150e+04</td>\n",
       "      <td>1.980126e+04</td>\n",
       "      <td>Latin America &amp; Caribbean</td>\n",
       "      <td>1.777450e+04</td>\n",
       "    </tr>\n",
       "    <tr>\n",
       "      <th>118655</th>\n",
       "      <td>Argentina</td>\n",
       "      <td>ARG</td>\n",
       "      <td>Internet users (per 100 people)</td>\n",
       "      <td>IT.NET.USER.P2</td>\n",
       "      <td>1.772058e+01</td>\n",
       "      <td>2.092720e+01</td>\n",
       "      <td>2.594663e+01</td>\n",
       "      <td>2.811262e+01</td>\n",
       "      <td>3.400000e+01</td>\n",
       "      <td>4.500000e+01</td>\n",
       "      <td>5.100000e+01</td>\n",
       "      <td>5.580000e+01</td>\n",
       "      <td>5.990000e+01</td>\n",
       "      <td>6.470000e+01</td>\n",
       "      <td>Latin America &amp; Caribbean</td>\n",
       "      <td>4.031070e+01</td>\n",
       "    </tr>\n",
       "    <tr>\n",
       "      <th>119364</th>\n",
       "      <td>Argentina</td>\n",
       "      <td>ARG</td>\n",
       "      <td>Personal computers (per 100 people)</td>\n",
       "      <td>IT.CMP.PCMP.P2</td>\n",
       "      <td>9.056130e+00</td>\n",
       "      <td>NaN</td>\n",
       "      <td>NaN</td>\n",
       "      <td>NaN</td>\n",
       "      <td>NaN</td>\n",
       "      <td>NaN</td>\n",
       "      <td>NaN</td>\n",
       "      <td>NaN</td>\n",
       "      <td>NaN</td>\n",
       "      <td>NaN</td>\n",
       "      <td>Latin America &amp; Caribbean</td>\n",
       "      <td>9.056130e+00</td>\n",
       "    </tr>\n",
       "  </tbody>\n",
       "</table>\n",
       "</div>"
      ],
      "text/plain": [
       "       Country Name Country Code  \\\n",
       "118484    Argentina          ARG   \n",
       "118494    Argentina          ARG   \n",
       "118527    Argentina          ARG   \n",
       "118655    Argentina          ARG   \n",
       "119364    Argentina          ARG   \n",
       "\n",
       "                                           Indicator Name     Indicator Code  \\\n",
       "118484  Enrolment in tertiary education, all programme...        SE.TER.ENRL   \n",
       "118494  Enrolment in upper secondary education, both s...            UIS.E.3   \n",
       "118527      GDP per capita, PPP (current international $)  NY.GDP.PCAP.PP.CD   \n",
       "118655                    Internet users (per 100 people)     IT.NET.USER.P2   \n",
       "119364                Personal computers (per 100 people)     IT.CMP.PCMP.P2   \n",
       "\n",
       "                2005          2006          2007          2008          2009  \\\n",
       "118484  2.082577e+06  2.202032e+06  2.208291e+06  2.287874e+06  2.387049e+06   \n",
       "118494  1.447769e+06  1.447612e+06  1.451352e+06  1.464197e+06  1.492714e+06   \n",
       "118527  1.381771e+04  1.522751e+04  1.686554e+04  1.771144e+04  1.661812e+04   \n",
       "118655  1.772058e+01  2.092720e+01  2.594663e+01  2.811262e+01  3.400000e+01   \n",
       "119364  9.056130e+00           NaN           NaN           NaN           NaN   \n",
       "\n",
       "                2010          2011          2012          2013          2014  \\\n",
       "118484  2.520985e+06  2.660514e+06  2.726557e+06  2.768211e+06  2.869450e+06   \n",
       "118494  1.520478e+06  1.651653e+06  1.685178e+06  1.722700e+06           NaN   \n",
       "118527  1.833354e+04  1.962935e+04  1.957901e+04  2.016150e+04  1.980126e+04   \n",
       "118655  4.500000e+01  5.100000e+01  5.580000e+01  5.990000e+01  6.470000e+01   \n",
       "119364           NaN           NaN           NaN           NaN           NaN   \n",
       "\n",
       "                           Region  AnneesEtudes  \n",
       "118484  Latin America & Caribbean  2.471354e+06  \n",
       "118494  Latin America & Caribbean  1.542628e+06  \n",
       "118527  Latin America & Caribbean  1.777450e+04  \n",
       "118655  Latin America & Caribbean  4.031070e+01  \n",
       "119364  Latin America & Caribbean  9.056130e+00  "
      ]
     },
     "execution_count": 75,
     "metadata": {},
     "output_type": "execute_result"
    }
   ],
   "source": [
    "ScoringPays.head()"
   ]
  },
  {
   "cell_type": "markdown",
   "id": "7a3ebdb8-6787-46af-880d-b2d32c3a2ce4",
   "metadata": {},
   "source": [
    "Creation d'un dataFrame avec comme index les pays et comme colonnes les indicateurs et contenant les données sur les années d'etudes "
   ]
  },
  {
   "cell_type": "code",
   "execution_count": 76,
   "id": "adf7c55d-a498-4912-a052-8e6b0e50a6f1",
   "metadata": {},
   "outputs": [
    {
     "data": {
      "text/html": [
       "<div>\n",
       "<style scoped>\n",
       "    .dataframe tbody tr th:only-of-type {\n",
       "        vertical-align: middle;\n",
       "    }\n",
       "\n",
       "    .dataframe tbody tr th {\n",
       "        vertical-align: top;\n",
       "    }\n",
       "\n",
       "    .dataframe thead th {\n",
       "        text-align: right;\n",
       "    }\n",
       "</style>\n",
       "<table border=\"1\" class=\"dataframe\">\n",
       "  <thead>\n",
       "    <tr style=\"text-align: right;\">\n",
       "      <th>Indicator Code</th>\n",
       "      <th>IT.CMP.PCMP.P2</th>\n",
       "      <th>IT.NET.USER.P2</th>\n",
       "      <th>NY.GDP.PCAP.PP.CD</th>\n",
       "      <th>SE.TER.ENRL</th>\n",
       "      <th>SP.POP.1524.TO.UN</th>\n",
       "      <th>UIS.E.3</th>\n",
       "    </tr>\n",
       "    <tr>\n",
       "      <th>Country Name</th>\n",
       "      <th></th>\n",
       "      <th></th>\n",
       "      <th></th>\n",
       "      <th></th>\n",
       "      <th></th>\n",
       "      <th></th>\n",
       "    </tr>\n",
       "  </thead>\n",
       "  <tbody>\n",
       "    <tr>\n",
       "      <th>Argentina</th>\n",
       "      <td>9.056130</td>\n",
       "      <td>40.310704</td>\n",
       "      <td>17774.499194</td>\n",
       "      <td>2471354.000</td>\n",
       "      <td>6779619.9</td>\n",
       "      <td>1.542628e+06</td>\n",
       "    </tr>\n",
       "    <tr>\n",
       "      <th>Canada</th>\n",
       "      <td>91.087364</td>\n",
       "      <td>79.348000</td>\n",
       "      <td>40557.236537</td>\n",
       "      <td>NaN</td>\n",
       "      <td>4443212.6</td>\n",
       "      <td>1.747343e+06</td>\n",
       "    </tr>\n",
       "    <tr>\n",
       "      <th>Curacao</th>\n",
       "      <td>NaN</td>\n",
       "      <td>NaN</td>\n",
       "      <td>NaN</td>\n",
       "      <td>2196.000</td>\n",
       "      <td>NaN</td>\n",
       "      <td>6.981000e+03</td>\n",
       "    </tr>\n",
       "    <tr>\n",
       "      <th>France</th>\n",
       "      <td>60.819555</td>\n",
       "      <td>70.029980</td>\n",
       "      <td>35805.976357</td>\n",
       "      <td>2243334.800</td>\n",
       "      <td>7663754.7</td>\n",
       "      <td>2.640964e+06</td>\n",
       "    </tr>\n",
       "    <tr>\n",
       "      <th>Germany</th>\n",
       "      <td>62.062672</td>\n",
       "      <td>78.901000</td>\n",
       "      <td>39572.319563</td>\n",
       "      <td>2846108.125</td>\n",
       "      <td>9393699.1</td>\n",
       "      <td>2.758161e+06</td>\n",
       "    </tr>\n",
       "  </tbody>\n",
       "</table>\n",
       "</div>"
      ],
      "text/plain": [
       "Indicator Code  IT.CMP.PCMP.P2  IT.NET.USER.P2  NY.GDP.PCAP.PP.CD  \\\n",
       "Country Name                                                        \n",
       "Argentina             9.056130       40.310704       17774.499194   \n",
       "Canada               91.087364       79.348000       40557.236537   \n",
       "Curacao                    NaN             NaN                NaN   \n",
       "France               60.819555       70.029980       35805.976357   \n",
       "Germany              62.062672       78.901000       39572.319563   \n",
       "\n",
       "Indicator Code  SE.TER.ENRL  SP.POP.1524.TO.UN       UIS.E.3  \n",
       "Country Name                                                  \n",
       "Argentina       2471354.000          6779619.9  1.542628e+06  \n",
       "Canada                  NaN          4443212.6  1.747343e+06  \n",
       "Curacao            2196.000                NaN  6.981000e+03  \n",
       "France          2243334.800          7663754.7  2.640964e+06  \n",
       "Germany         2846108.125          9393699.1  2.758161e+06  "
      ]
     },
     "execution_count": 76,
     "metadata": {},
     "output_type": "execute_result"
    }
   ],
   "source": [
    "df_score1 = ScoringPays.pivot_table(index=['Country Name'], columns=\"Indicator Code\")['AnneesEtudes']\n",
    "df_score1.head()"
   ]
  },
  {
   "cell_type": "code",
   "execution_count": 77,
   "id": "26d0a613-2753-479a-bf26-967e0238b2db",
   "metadata": {},
   "outputs": [],
   "source": [
    "#Calcul des score pour chaque indicateur \n",
    "df_score1 [\"ScorePop\"] = (df_score1[nb_eleves]-df_score1[nb_eleves].mean())/df_score1[nb_eleves].std(ddof=0)\n",
    "# score population entre 15 et 24 ans\n",
    "df_score1 [\"ScoreInt\"] = (df_score1[internet]-df_score1[internet].mean())/df_score1[internet].std(ddof=0)\n",
    "# score internet\n",
    "df_score1 [\"ScorePIB\"] = (df_score1[PIB]-df_score1[PIB].mean())/df_score1[PIB].std(ddof=0)\n",
    "# score PIB\n",
    "df_score1 [\"ScoreC\"] = (df_score1[computer]-df_score1[computer].mean())/df_score1[computer].std(ddof=0)\n",
    "# score Computer\n",
    "df_score1 [\"ScoreU\"] = (df_score1[inscriptionUniversité]-df_score1[inscriptionUniversité].mean())/df_score1[inscriptionUniversité].std(ddof=0)\n",
    "#score universite\n",
    "\n",
    "df_score1 [\"ScoreL\"] = (df_score1[inscriptionLycée]-df_score1[inscriptionLycée].mean())/ df_score1[inscriptionLycée].std(ddof=0)\n",
    "#scoreLyceee\n",
    "\n",
    "df_score1['Score'] =df_score1.fillna(0) [\"ScorePop\"] + df_score1.fillna(0) [\"ScoreInt\"] + df_score1.fillna(0) [\"ScorePIB\"] + df_score1 .fillna(0)[\"ScoreC\"] + df_score1.fillna(0) [\"ScoreU\"] + df_score1 .fillna(0)[\"ScoreL\"]"
   ]
  },
  {
   "cell_type": "code",
   "execution_count": 78,
   "id": "c9b5b43e-49b4-41df-9eb8-005d7f6f1b48",
   "metadata": {},
   "outputs": [
    {
     "data": {
      "text/html": [
       "<div>\n",
       "<style scoped>\n",
       "    .dataframe tbody tr th:only-of-type {\n",
       "        vertical-align: middle;\n",
       "    }\n",
       "\n",
       "    .dataframe tbody tr th {\n",
       "        vertical-align: top;\n",
       "    }\n",
       "\n",
       "    .dataframe thead th {\n",
       "        text-align: right;\n",
       "    }\n",
       "</style>\n",
       "<table border=\"1\" class=\"dataframe\">\n",
       "  <thead>\n",
       "    <tr style=\"text-align: right;\">\n",
       "      <th>Indicator Code</th>\n",
       "      <th>IT.CMP.PCMP.P2</th>\n",
       "      <th>IT.NET.USER.P2</th>\n",
       "      <th>NY.GDP.PCAP.PP.CD</th>\n",
       "      <th>SE.TER.ENRL</th>\n",
       "      <th>SP.POP.1524.TO.UN</th>\n",
       "      <th>UIS.E.3</th>\n",
       "      <th>ScorePop</th>\n",
       "      <th>ScoreInt</th>\n",
       "      <th>ScorePIB</th>\n",
       "      <th>ScoreC</th>\n",
       "      <th>ScoreU</th>\n",
       "      <th>ScoreL</th>\n",
       "      <th>Score</th>\n",
       "    </tr>\n",
       "    <tr>\n",
       "      <th>Country Name</th>\n",
       "      <th></th>\n",
       "      <th></th>\n",
       "      <th></th>\n",
       "      <th></th>\n",
       "      <th></th>\n",
       "      <th></th>\n",
       "      <th></th>\n",
       "      <th></th>\n",
       "      <th></th>\n",
       "      <th></th>\n",
       "      <th></th>\n",
       "      <th></th>\n",
       "      <th></th>\n",
       "    </tr>\n",
       "  </thead>\n",
       "  <tbody>\n",
       "    <tr>\n",
       "      <th>United States</th>\n",
       "      <td>78.593966</td>\n",
       "      <td>71.741871</td>\n",
       "      <td>49120.975228</td>\n",
       "      <td>1.919801e+07</td>\n",
       "      <td>44573903.0</td>\n",
       "      <td>1.167669e+07</td>\n",
       "      <td>3.665314</td>\n",
       "      <td>0.952481</td>\n",
       "      <td>1.309641</td>\n",
       "      <td>1.504873</td>\n",
       "      <td>4.155391</td>\n",
       "      <td>4.126721</td>\n",
       "      <td>15.714421</td>\n",
       "    </tr>\n",
       "    <tr>\n",
       "      <th>United Kingdom</th>\n",
       "      <td>77.950439</td>\n",
       "      <td>81.517410</td>\n",
       "      <td>36368.964439</td>\n",
       "      <td>2.393757e+06</td>\n",
       "      <td>7955471.5</td>\n",
       "      <td>3.224744e+06</td>\n",
       "      <td>-0.276258</td>\n",
       "      <td>1.422908</td>\n",
       "      <td>0.407380</td>\n",
       "      <td>1.482540</td>\n",
       "      <td>-0.122194</td>\n",
       "      <td>0.503073</td>\n",
       "      <td>3.417447</td>\n",
       "    </tr>\n",
       "    <tr>\n",
       "      <th>Canada</th>\n",
       "      <td>91.087364</td>\n",
       "      <td>79.348000</td>\n",
       "      <td>40557.236537</td>\n",
       "      <td>NaN</td>\n",
       "      <td>4443212.6</td>\n",
       "      <td>1.747343e+06</td>\n",
       "      <td>-0.654315</td>\n",
       "      <td>1.318509</td>\n",
       "      <td>0.703719</td>\n",
       "      <td>1.938446</td>\n",
       "      <td>NaN</td>\n",
       "      <td>-0.130342</td>\n",
       "      <td>3.176017</td>\n",
       "    </tr>\n",
       "    <tr>\n",
       "      <th>Germany</th>\n",
       "      <td>62.062672</td>\n",
       "      <td>78.901000</td>\n",
       "      <td>39572.319563</td>\n",
       "      <td>2.846108e+06</td>\n",
       "      <td>9393699.1</td>\n",
       "      <td>2.758161e+06</td>\n",
       "      <td>-0.121449</td>\n",
       "      <td>1.296998</td>\n",
       "      <td>0.634031</td>\n",
       "      <td>0.931168</td>\n",
       "      <td>-0.007047</td>\n",
       "      <td>0.303032</td>\n",
       "      <td>3.036734</td>\n",
       "    </tr>\n",
       "    <tr>\n",
       "      <th>San Marino</th>\n",
       "      <td>81.205694</td>\n",
       "      <td>51.527174</td>\n",
       "      <td>72124.978699</td>\n",
       "      <td>9.172500e+02</td>\n",
       "      <td>NaN</td>\n",
       "      <td>1.405000e+03</td>\n",
       "      <td>NaN</td>\n",
       "      <td>-0.020308</td>\n",
       "      <td>2.937277</td>\n",
       "      <td>1.595511</td>\n",
       "      <td>-0.731300</td>\n",
       "      <td>-0.878887</td>\n",
       "      <td>2.902291</td>\n",
       "    </tr>\n",
       "    <tr>\n",
       "      <th>Japan</th>\n",
       "      <td>NaN</td>\n",
       "      <td>77.739311</td>\n",
       "      <td>35347.160776</td>\n",
       "      <td>3.929535e+06</td>\n",
       "      <td>12921826.9</td>\n",
       "      <td>3.754944e+06</td>\n",
       "      <td>0.258315</td>\n",
       "      <td>1.241095</td>\n",
       "      <td>0.335083</td>\n",
       "      <td>NaN</td>\n",
       "      <td>0.268744</td>\n",
       "      <td>0.730388</td>\n",
       "      <td>2.833624</td>\n",
       "    </tr>\n",
       "    <tr>\n",
       "      <th>France</th>\n",
       "      <td>60.819555</td>\n",
       "      <td>70.029980</td>\n",
       "      <td>35805.976357</td>\n",
       "      <td>2.243335e+06</td>\n",
       "      <td>7663754.7</td>\n",
       "      <td>2.640964e+06</td>\n",
       "      <td>-0.307659</td>\n",
       "      <td>0.870100</td>\n",
       "      <td>0.367546</td>\n",
       "      <td>0.888027</td>\n",
       "      <td>-0.160485</td>\n",
       "      <td>0.252785</td>\n",
       "      <td>1.910314</td>\n",
       "    </tr>\n",
       "    <tr>\n",
       "      <th>Korea, Rep.</th>\n",
       "      <td>56.154917</td>\n",
       "      <td>81.685595</td>\n",
       "      <td>29477.324924</td>\n",
       "      <td>3.269217e+06</td>\n",
       "      <td>6688057.1</td>\n",
       "      <td>1.893212e+06</td>\n",
       "      <td>-0.412682</td>\n",
       "      <td>1.431001</td>\n",
       "      <td>-0.080234</td>\n",
       "      <td>0.726145</td>\n",
       "      <td>0.100657</td>\n",
       "      <td>-0.067802</td>\n",
       "      <td>1.697085</td>\n",
       "    </tr>\n",
       "    <tr>\n",
       "      <th>Russian Federation</th>\n",
       "      <td>12.654785</td>\n",
       "      <td>40.802995</td>\n",
       "      <td>20378.412337</td>\n",
       "      <td>8.608561e+06</td>\n",
       "      <td>20471248.3</td>\n",
       "      <td>3.530613e+06</td>\n",
       "      <td>1.070928</td>\n",
       "      <td>-0.536386</td>\n",
       "      <td>-0.724023</td>\n",
       "      <td>-0.783491</td>\n",
       "      <td>1.459807</td>\n",
       "      <td>0.634210</td>\n",
       "      <td>1.121044</td>\n",
       "    </tr>\n",
       "    <tr>\n",
       "      <th>Greenland</th>\n",
       "      <td>NaN</td>\n",
       "      <td>62.818110</td>\n",
       "      <td>NaN</td>\n",
       "      <td>NaN</td>\n",
       "      <td>NaN</td>\n",
       "      <td>NaN</td>\n",
       "      <td>NaN</td>\n",
       "      <td>0.523044</td>\n",
       "      <td>NaN</td>\n",
       "      <td>NaN</td>\n",
       "      <td>NaN</td>\n",
       "      <td>NaN</td>\n",
       "      <td>0.523044</td>\n",
       "    </tr>\n",
       "  </tbody>\n",
       "</table>\n",
       "</div>"
      ],
      "text/plain": [
       "Indicator Code      IT.CMP.PCMP.P2  IT.NET.USER.P2  NY.GDP.PCAP.PP.CD  \\\n",
       "Country Name                                                            \n",
       "United States            78.593966       71.741871       49120.975228   \n",
       "United Kingdom           77.950439       81.517410       36368.964439   \n",
       "Canada                   91.087364       79.348000       40557.236537   \n",
       "Germany                  62.062672       78.901000       39572.319563   \n",
       "San Marino               81.205694       51.527174       72124.978699   \n",
       "Japan                          NaN       77.739311       35347.160776   \n",
       "France                   60.819555       70.029980       35805.976357   \n",
       "Korea, Rep.              56.154917       81.685595       29477.324924   \n",
       "Russian Federation       12.654785       40.802995       20378.412337   \n",
       "Greenland                      NaN       62.818110                NaN   \n",
       "\n",
       "Indicator Code       SE.TER.ENRL  SP.POP.1524.TO.UN       UIS.E.3  ScorePop  \\\n",
       "Country Name                                                                  \n",
       "United States       1.919801e+07         44573903.0  1.167669e+07  3.665314   \n",
       "United Kingdom      2.393757e+06          7955471.5  3.224744e+06 -0.276258   \n",
       "Canada                       NaN          4443212.6  1.747343e+06 -0.654315   \n",
       "Germany             2.846108e+06          9393699.1  2.758161e+06 -0.121449   \n",
       "San Marino          9.172500e+02                NaN  1.405000e+03       NaN   \n",
       "Japan               3.929535e+06         12921826.9  3.754944e+06  0.258315   \n",
       "France              2.243335e+06          7663754.7  2.640964e+06 -0.307659   \n",
       "Korea, Rep.         3.269217e+06          6688057.1  1.893212e+06 -0.412682   \n",
       "Russian Federation  8.608561e+06         20471248.3  3.530613e+06  1.070928   \n",
       "Greenland                    NaN                NaN           NaN       NaN   \n",
       "\n",
       "Indicator Code      ScoreInt  ScorePIB    ScoreC    ScoreU    ScoreL  \\\n",
       "Country Name                                                           \n",
       "United States       0.952481  1.309641  1.504873  4.155391  4.126721   \n",
       "United Kingdom      1.422908  0.407380  1.482540 -0.122194  0.503073   \n",
       "Canada              1.318509  0.703719  1.938446       NaN -0.130342   \n",
       "Germany             1.296998  0.634031  0.931168 -0.007047  0.303032   \n",
       "San Marino         -0.020308  2.937277  1.595511 -0.731300 -0.878887   \n",
       "Japan               1.241095  0.335083       NaN  0.268744  0.730388   \n",
       "France              0.870100  0.367546  0.888027 -0.160485  0.252785   \n",
       "Korea, Rep.         1.431001 -0.080234  0.726145  0.100657 -0.067802   \n",
       "Russian Federation -0.536386 -0.724023 -0.783491  1.459807  0.634210   \n",
       "Greenland           0.523044       NaN       NaN       NaN       NaN   \n",
       "\n",
       "Indicator Code          Score  \n",
       "Country Name                   \n",
       "United States       15.714421  \n",
       "United Kingdom       3.417447  \n",
       "Canada               3.176017  \n",
       "Germany              3.036734  \n",
       "San Marino           2.902291  \n",
       "Japan                2.833624  \n",
       "France               1.910314  \n",
       "Korea, Rep.          1.697085  \n",
       "Russian Federation   1.121044  \n",
       "Greenland            0.523044  "
      ]
     },
     "execution_count": 78,
     "metadata": {},
     "output_type": "execute_result"
    }
   ],
   "source": [
    "#Pays par Score \n",
    "df_score1.sort_values(by='Score',ascending=False).head(10)"
   ]
  },
  {
   "cell_type": "markdown",
   "id": "a9d23004-412d-409a-80a2-5db3a64a3a3a",
   "metadata": {},
   "source": [
    "- Graphique de scoring par pays"
   ]
  },
  {
   "cell_type": "code",
   "execution_count": 99,
   "id": "a2b0eba4-2384-4a50-924d-8136e8eb55c1",
   "metadata": {},
   "outputs": [
    {
     "data": {
      "image/png": "[encoded data removed]",
      "text/plain": [
       "<Figure size 1080x1080 with 1 Axes>"
      ]
     },
     "metadata": {
      "needs_background": "light"
     },
     "output_type": "display_data"
    }
   ],
   "source": [
    "\n",
    "graph1 = df_score1[\"Score\"].sort_values(ascending=False).head(15)\n",
    "my_colors = [(0.1,0.9,0.9), (0.75, 0.75, 0.75)]\n",
    "ax = graph1.plot(kind=\"bar\", figsize=(15,15), title=\"Score par Pays\", xlabel='Country Name', color=my_colors)\n",
    "fig = ax.get_figure()\n",
    "plt.show()"
   ]
  },
  {
   "cell_type": "markdown",
   "id": "0915322b-55b2-4564-b8c4-5e8f7f298382",
   "metadata": {},
   "source": [
    "Conclusion: LE TOP 10 des pays avec les meilleurs scores est:\n",
    "\n",
    "1- United States\t\n",
    "2- United Kingdom\t\n",
    "3- Canada\t\n",
    "4- Germany\n",
    "\n",
    "5- San Marino\t\n",
    "6- Japan\t\n",
    "7- France\t\n",
    "8- Korea, Rep.\t\n",
    "9- Russian Federation\n",
    "\n",
    "10- Greenland"
   ]
  },
  {
   "cell_type": "markdown",
   "id": "f07d7f69-8e10-4d3d-aa2a-52cb510c5671",
   "metadata": {},
   "source": [
    "E) Choix des meilleurs zones géographiques"
   ]
  },
  {
   "cell_type": "markdown",
   "id": "85b4327d-2792-4ad0-bf72-a23e81f21ae7",
   "metadata": {},
   "source": [
    "Creation d'un dataFrame avec comme index les pays et comme colonnes les indicateurs et contenant les données sur les années d'etudes "
   ]
  },
  {
   "cell_type": "code",
   "execution_count": 80,
   "id": "2dce8d50-0eac-4811-a7f9-be9c2b231f0a",
   "metadata": {},
   "outputs": [
    {
     "data": {
      "text/html": [
       "<div>\n",
       "<style scoped>\n",
       "    .dataframe tbody tr th:only-of-type {\n",
       "        vertical-align: middle;\n",
       "    }\n",
       "\n",
       "    .dataframe tbody tr th {\n",
       "        vertical-align: top;\n",
       "    }\n",
       "\n",
       "    .dataframe thead th {\n",
       "        text-align: right;\n",
       "    }\n",
       "</style>\n",
       "<table border=\"1\" class=\"dataframe\">\n",
       "  <thead>\n",
       "    <tr style=\"text-align: right;\">\n",
       "      <th>Indicator Code</th>\n",
       "      <th>IT.CMP.PCMP.P2</th>\n",
       "      <th>IT.NET.USER.P2</th>\n",
       "      <th>NY.GDP.PCAP.PP.CD</th>\n",
       "      <th>SE.TER.ENRL</th>\n",
       "      <th>SP.POP.1524.TO.UN</th>\n",
       "      <th>UIS.E.3</th>\n",
       "    </tr>\n",
       "    <tr>\n",
       "      <th>Region</th>\n",
       "      <th></th>\n",
       "      <th></th>\n",
       "      <th></th>\n",
       "      <th></th>\n",
       "      <th></th>\n",
       "      <th></th>\n",
       "    </tr>\n",
       "  </thead>\n",
       "  <tbody>\n",
       "    <tr>\n",
       "      <th>East Asia &amp; Pacific</th>\n",
       "      <td>31.983180</td>\n",
       "      <td>52.612176</td>\n",
       "      <td>28552.649823</td>\n",
       "      <td>2.181724e+06</td>\n",
       "      <td>7.163508e+06</td>\n",
       "      <td>2.011051e+06</td>\n",
       "    </tr>\n",
       "    <tr>\n",
       "      <th>Europe &amp; Central Asia</th>\n",
       "      <td>43.052058</td>\n",
       "      <td>58.630360</td>\n",
       "      <td>32151.772497</td>\n",
       "      <td>2.546487e+06</td>\n",
       "      <td>9.391148e+06</td>\n",
       "      <td>1.937906e+06</td>\n",
       "    </tr>\n",
       "    <tr>\n",
       "      <th>Latin America &amp; Caribbean</th>\n",
       "      <td>8.051310</td>\n",
       "      <td>37.847186</td>\n",
       "      <td>20846.734732</td>\n",
       "      <td>1.533687e+06</td>\n",
       "      <td>1.061678e+07</td>\n",
       "      <td>1.299442e+06</td>\n",
       "    </tr>\n",
       "    <tr>\n",
       "      <th>Middle East &amp; North Africa</th>\n",
       "      <td>18.182551</td>\n",
       "      <td>25.367634</td>\n",
       "      <td>31298.340931</td>\n",
       "      <td>1.679651e+06</td>\n",
       "      <td>8.596431e+06</td>\n",
       "      <td>2.034380e+06</td>\n",
       "    </tr>\n",
       "    <tr>\n",
       "      <th>North America</th>\n",
       "      <td>84.840665</td>\n",
       "      <td>75.544935</td>\n",
       "      <td>44839.105883</td>\n",
       "      <td>1.919801e+07</td>\n",
       "      <td>2.450856e+07</td>\n",
       "      <td>6.712015e+06</td>\n",
       "    </tr>\n",
       "  </tbody>\n",
       "</table>\n",
       "</div>"
      ],
      "text/plain": [
       "Indicator Code              IT.CMP.PCMP.P2  IT.NET.USER.P2  NY.GDP.PCAP.PP.CD  \\\n",
       "Region                                                                          \n",
       "East Asia & Pacific              31.983180       52.612176       28552.649823   \n",
       "Europe & Central Asia            43.052058       58.630360       32151.772497   \n",
       "Latin America & Caribbean         8.051310       37.847186       20846.734732   \n",
       "Middle East & North Africa       18.182551       25.367634       31298.340931   \n",
       "North America                    84.840665       75.544935       44839.105883   \n",
       "\n",
       "Indicator Code               SE.TER.ENRL  SP.POP.1524.TO.UN       UIS.E.3  \n",
       "Region                                                                     \n",
       "East Asia & Pacific         2.181724e+06       7.163508e+06  2.011051e+06  \n",
       "Europe & Central Asia       2.546487e+06       9.391148e+06  1.937906e+06  \n",
       "Latin America & Caribbean   1.533687e+06       1.061678e+07  1.299442e+06  \n",
       "Middle East & North Africa  1.679651e+06       8.596431e+06  2.034380e+06  \n",
       "North America               1.919801e+07       2.450856e+07  6.712015e+06  "
      ]
     },
     "execution_count": 80,
     "metadata": {},
     "output_type": "execute_result"
    }
   ],
   "source": [
    "\n",
    "df_score2 = ScoringPays.pivot_table(index=['Region'], columns=\"Indicator Code\")['AnneesEtudes']\n",
    "df_score2.head()\n"
   ]
  },
  {
   "cell_type": "code",
   "execution_count": 81,
   "id": "d7ee6675-2e78-482d-a2b7-954a7d897706",
   "metadata": {},
   "outputs": [],
   "source": [
    "#Calcul des score pour chaque indicateur \n",
    "df_score2 [\"ScorePop\"] = (df_score2[nb_eleves]-df_score2[nb_eleves].mean())/df_score2[nb_eleves].std(ddof=0)\n",
    "# score population entre 15 et 24 ans\n",
    "df_score2[\"ScoreInt\"] = (df_score2[internet]-df_score2[internet].mean())/df_score2[internet].std(ddof=0)\n",
    "# score internet\n",
    "df_score2 [\"ScorePIB\"] = (df_score2[PIB]-df_score2[PIB].mean())/df_score2[PIB].std(ddof=0)\n",
    "# score PIB\n",
    "df_score2 [\"ScoreC\"] = (df_score2[computer]-df_score2[computer].mean())/df_score2[computer].std(ddof=0)\n",
    "# score Computer\n",
    "df_score2 [\"ScoreU\"] = (df_score2[inscriptionUniversité]-df_score2[inscriptionUniversité].mean())/df_score2[inscriptionUniversité].std(ddof=0)\n",
    "#score universite\n",
    "\n",
    "df_score2 [\"ScoreL\"] = (df_score2[inscriptionLycée]-df_score2[inscriptionLycée].mean())/ df_score2[inscriptionLycée].std(ddof=0)\n",
    "#scoreLyceee\n",
    "\n",
    "df_score2['Score'] =df_score2.fillna(0) [\"ScorePop\"] + df_score2.fillna(0) [\"ScoreInt\"] + df_score2.fillna(0) [\"ScorePIB\"] + df_score2.fillna(0)[\"ScoreC\"] + df_score2.fillna(0) [\"ScoreU\"] + df_score2.fillna(0)[\"ScoreL\"]"
   ]
  },
  {
   "cell_type": "code",
   "execution_count": 82,
   "id": "533da391-1a42-46b1-92d9-d9e7584bef4e",
   "metadata": {},
   "outputs": [
    {
     "data": {
      "text/html": [
       "<div>\n",
       "<style scoped>\n",
       "    .dataframe tbody tr th:only-of-type {\n",
       "        vertical-align: middle;\n",
       "    }\n",
       "\n",
       "    .dataframe tbody tr th {\n",
       "        vertical-align: top;\n",
       "    }\n",
       "\n",
       "    .dataframe thead th {\n",
       "        text-align: right;\n",
       "    }\n",
       "</style>\n",
       "<table border=\"1\" class=\"dataframe\">\n",
       "  <thead>\n",
       "    <tr style=\"text-align: right;\">\n",
       "      <th>Indicator Code</th>\n",
       "      <th>IT.CMP.PCMP.P2</th>\n",
       "      <th>IT.NET.USER.P2</th>\n",
       "      <th>NY.GDP.PCAP.PP.CD</th>\n",
       "      <th>SE.TER.ENRL</th>\n",
       "      <th>SP.POP.1524.TO.UN</th>\n",
       "      <th>UIS.E.3</th>\n",
       "      <th>ScorePop</th>\n",
       "      <th>ScoreInt</th>\n",
       "      <th>ScorePIB</th>\n",
       "      <th>ScoreC</th>\n",
       "      <th>ScoreU</th>\n",
       "      <th>ScoreL</th>\n",
       "      <th>Score</th>\n",
       "    </tr>\n",
       "    <tr>\n",
       "      <th>Region</th>\n",
       "      <th></th>\n",
       "      <th></th>\n",
       "      <th></th>\n",
       "      <th></th>\n",
       "      <th></th>\n",
       "      <th></th>\n",
       "      <th></th>\n",
       "      <th></th>\n",
       "      <th></th>\n",
       "      <th></th>\n",
       "      <th></th>\n",
       "      <th></th>\n",
       "      <th></th>\n",
       "    </tr>\n",
       "  </thead>\n",
       "  <tbody>\n",
       "    <tr>\n",
       "      <th>North America</th>\n",
       "      <td>84.840665</td>\n",
       "      <td>75.544935</td>\n",
       "      <td>44839.105883</td>\n",
       "      <td>1.919801e+07</td>\n",
       "      <td>2.450856e+07</td>\n",
       "      <td>6.712015e+06</td>\n",
       "      <td>1.968326</td>\n",
       "      <td>1.480599</td>\n",
       "      <td>1.715575</td>\n",
       "      <td>1.789014</td>\n",
       "      <td>1.997260</td>\n",
       "      <td>1.981080</td>\n",
       "      <td>10.931854</td>\n",
       "    </tr>\n",
       "    <tr>\n",
       "      <th>Europe &amp; Central Asia</th>\n",
       "      <td>43.052058</td>\n",
       "      <td>58.630360</td>\n",
       "      <td>32151.772497</td>\n",
       "      <td>2.546487e+06</td>\n",
       "      <td>9.391148e+06</td>\n",
       "      <td>1.937906e+06</td>\n",
       "      <td>-0.421085</td>\n",
       "      <td>0.500203</td>\n",
       "      <td>0.079199</td>\n",
       "      <td>0.219034</td>\n",
       "      <td>-0.417931</td>\n",
       "      <td>-0.435929</td>\n",
       "      <td>-0.476509</td>\n",
       "    </tr>\n",
       "    <tr>\n",
       "      <th>East Asia &amp; Pacific</th>\n",
       "      <td>31.983180</td>\n",
       "      <td>52.612176</td>\n",
       "      <td>28552.649823</td>\n",
       "      <td>2.181724e+06</td>\n",
       "      <td>7.163508e+06</td>\n",
       "      <td>2.011051e+06</td>\n",
       "      <td>-0.773179</td>\n",
       "      <td>0.151379</td>\n",
       "      <td>-0.385006</td>\n",
       "      <td>-0.196818</td>\n",
       "      <td>-0.470838</td>\n",
       "      <td>-0.398897</td>\n",
       "      <td>-2.073359</td>\n",
       "    </tr>\n",
       "    <tr>\n",
       "      <th>Middle East &amp; North Africa</th>\n",
       "      <td>18.182551</td>\n",
       "      <td>25.367634</td>\n",
       "      <td>31298.340931</td>\n",
       "      <td>1.679651e+06</td>\n",
       "      <td>8.596431e+06</td>\n",
       "      <td>2.034380e+06</td>\n",
       "      <td>-0.546696</td>\n",
       "      <td>-1.427758</td>\n",
       "      <td>-0.030875</td>\n",
       "      <td>-0.715302</td>\n",
       "      <td>-0.543660</td>\n",
       "      <td>-0.387087</td>\n",
       "      <td>-3.651377</td>\n",
       "    </tr>\n",
       "    <tr>\n",
       "      <th>Latin America &amp; Caribbean</th>\n",
       "      <td>8.051310</td>\n",
       "      <td>37.847186</td>\n",
       "      <td>20846.734732</td>\n",
       "      <td>1.533687e+06</td>\n",
       "      <td>1.061678e+07</td>\n",
       "      <td>1.299442e+06</td>\n",
       "      <td>-0.227366</td>\n",
       "      <td>-0.704423</td>\n",
       "      <td>-1.378893</td>\n",
       "      <td>-1.095928</td>\n",
       "      <td>-0.564831</td>\n",
       "      <td>-0.759167</td>\n",
       "      <td>-4.730608</td>\n",
       "    </tr>\n",
       "  </tbody>\n",
       "</table>\n",
       "</div>"
      ],
      "text/plain": [
       "Indicator Code              IT.CMP.PCMP.P2  IT.NET.USER.P2  NY.GDP.PCAP.PP.CD  \\\n",
       "Region                                                                          \n",
       "North America                    84.840665       75.544935       44839.105883   \n",
       "Europe & Central Asia            43.052058       58.630360       32151.772497   \n",
       "East Asia & Pacific              31.983180       52.612176       28552.649823   \n",
       "Middle East & North Africa       18.182551       25.367634       31298.340931   \n",
       "Latin America & Caribbean         8.051310       37.847186       20846.734732   \n",
       "\n",
       "Indicator Code               SE.TER.ENRL  SP.POP.1524.TO.UN       UIS.E.3  \\\n",
       "Region                                                                      \n",
       "North America               1.919801e+07       2.450856e+07  6.712015e+06   \n",
       "Europe & Central Asia       2.546487e+06       9.391148e+06  1.937906e+06   \n",
       "East Asia & Pacific         2.181724e+06       7.163508e+06  2.011051e+06   \n",
       "Middle East & North Africa  1.679651e+06       8.596431e+06  2.034380e+06   \n",
       "Latin America & Caribbean   1.533687e+06       1.061678e+07  1.299442e+06   \n",
       "\n",
       "Indicator Code              ScorePop  ScoreInt  ScorePIB    ScoreC    ScoreU  \\\n",
       "Region                                                                         \n",
       "North America               1.968326  1.480599  1.715575  1.789014  1.997260   \n",
       "Europe & Central Asia      -0.421085  0.500203  0.079199  0.219034 -0.417931   \n",
       "East Asia & Pacific        -0.773179  0.151379 -0.385006 -0.196818 -0.470838   \n",
       "Middle East & North Africa -0.546696 -1.427758 -0.030875 -0.715302 -0.543660   \n",
       "Latin America & Caribbean  -0.227366 -0.704423 -1.378893 -1.095928 -0.564831   \n",
       "\n",
       "Indicator Code                ScoreL      Score  \n",
       "Region                                           \n",
       "North America               1.981080  10.931854  \n",
       "Europe & Central Asia      -0.435929  -0.476509  \n",
       "East Asia & Pacific        -0.398897  -2.073359  \n",
       "Middle East & North Africa -0.387087  -3.651377  \n",
       "Latin America & Caribbean  -0.759167  -4.730608  "
      ]
     },
     "execution_count": 82,
     "metadata": {},
     "output_type": "execute_result"
    }
   ],
   "source": [
    "#RegionsparScore \n",
    "df_score2.sort_values(by='Score',ascending=False).head(10)"
   ]
  },
  {
   "cell_type": "markdown",
   "id": "bf38e701-6982-485e-a9a4-c0dcc53756ed",
   "metadata": {},
   "source": [
    "- Graphique de scoring par Regions"
   ]
  },
  {
   "cell_type": "code",
   "execution_count": 101,
   "id": "30bf325d-1bf9-4c00-950f-43b40d7966d2",
   "metadata": {},
   "outputs": [
    {
     "data": {
      "image/png": "[encoded data removed]",
      "text/plain": [
       "<Figure size 1080x1080 with 1 Axes>"
      ]
     },
     "metadata": {
      "needs_background": "light"
     },
     "output_type": "display_data"
    }
   ],
   "source": [
    "\n",
    "graph2 = df_score2[\"Score\"].sort_values(ascending=False).head(15)\n",
    "my_colors = [(0.1,0.9,0.9), (0.75, 0.75, 0.75)]\n",
    "ax = graph2.plot(kind=\"bar\", figsize=(15,15), title=\"Score par Pays\", xlabel='Region', color=my_colors)\n",
    "fig = ax.get_figure()\n",
    "plt.show()"
   ]
  },
  {
   "cell_type": "markdown",
   "id": "b5d53c0a-18ba-4480-99dd-a746e10101bf",
   "metadata": {},
   "source": [
    "Conclusion Les meilleurs regions sont :\n",
    "\n",
    "  1- North America \n",
    "  \n",
    "  2- Europe & Central Asia"
   ]
  },
  {
   "cell_type": "markdown",
   "id": "d128983b-2072-4e6a-9bd8-0ffb5f60a1b6",
   "metadata": {},
   "source": [
    "F) Choix des pays où l'entreprise doit opérer en priorité"
   ]
  },
  {
   "cell_type": "markdown",
   "id": "ccd2745b-cdac-4cf9-b386-01332f2f76e4",
   "metadata": {},
   "source": [
    "1- United States\t\n",
    "2- United Kingdom\t\n",
    "3- Canada\t\n",
    "4- Germany\n",
    "\n",
    "5- San Marino"
   ]
  },
  {
   "cell_type": "markdown",
   "id": "522cf0eb-8332-4759-b92f-619fe329b79c",
   "metadata": {},
   "source": [
    "Car Il sont les 5 pays avec le meilleurs score et appartiennent aux deux meilleurs regions"
   ]
  }
 ],
 "metadata": {
  "kernelspec": {
   "display_name": "Python 3 (ipykernel)",
   "language": "python",
   "name": "python3"
  },
  "language_info": {
   "codemirror_mode": {
    "name": "ipython",
    "version": 3
   },
   "file_extension": ".py",
   "mimetype": "text/x-python",
   "name": "python",
   "nbconvert_exporter": "python",
   "pygments_lexer": "ipython3",
   "version": "3.9.7"
  }
 },
 "nbformat": 4,
 "nbformat_minor": 5
}
